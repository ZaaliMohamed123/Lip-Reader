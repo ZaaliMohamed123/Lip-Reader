{
 "cells": [
  {
   "cell_type": "markdown",
   "metadata": {
    "id": "zk2yxU9_OTdN"
   },
   "source": [
    "# INSTALLING AND IMPORTING INDEPENDENCIES"
   ]
  },
  {
   "cell_type": "code",
   "execution_count": 1,
   "metadata": {
    "colab": {
     "base_uri": "https://localhost:8080/"
    },
    "executionInfo": {
     "elapsed": 2646,
     "status": "ok",
     "timestamp": 1734197740285,
     "user": {
      "displayName": "Mohamed Zaali",
      "userId": "07924585633667612782"
     },
     "user_tz": -60
    },
    "id": "LSZcd39jQRET",
    "outputId": "7f36fb48-e496-4f6b-bd12-d4957046468b"
   },
   "outputs": [
    {
     "name": "stdout",
     "output_type": "stream",
     "text": [
      "Package            Version\n",
      "------------------ -----------\n",
      "asttokens          3.0.0\n",
      "colorama           0.4.6\n",
      "comm               0.2.2\n",
      "debugpy            1.8.11\n",
      "decorator          5.1.1\n",
      "exceptiongroup     1.2.2\n",
      "executing          2.1.0\n",
      "importlib-metadata 8.5.0\n",
      "ipykernel          6.29.5\n",
      "ipython            8.18.1\n",
      "jedi               0.19.2\n",
      "jupyter-client     8.6.3\n",
      "jupyter-core       5.7.2\n",
      "matplotlib-inline  0.1.7\n",
      "nest-asyncio       1.6.0\n",
      "packaging          24.2\n",
      "parso              0.8.4\n",
      "pip                20.2.3\n",
      "platformdirs       4.3.6\n",
      "prompt-toolkit     3.0.48\n",
      "psutil             6.1.0\n",
      "pure-eval          0.2.3\n",
      "pygments           2.18.0\n",
      "python-dateutil    2.9.0.post0\n",
      "pywin32            308\n",
      "pyzmq              26.2.0\n",
      "setuptools         49.2.1\n",
      "six                1.17.0\n",
      "stack-data         0.6.3\n",
      "tornado            6.4.2\n",
      "traitlets          5.14.3\n",
      "typing-extensions  4.12.2\n",
      "wcwidth            0.2.13\n",
      "zipp               3.21.0\n",
      "Note: you may need to restart the kernel to use updated packages.\n"
     ]
    }
   ],
   "source": [
    "%pip list"
   ]
  },
  {
   "cell_type": "markdown",
   "metadata": {
    "id": "6mQpsx2sO8Qj"
   },
   "source": [
    "\n",
    "\n",
    "*   **opencv-python:** preprocessing data\n",
    "*   **matplotlib:** rendering the results\n",
    "*   **imageio:** converting numpy arrays to gifs\n",
    "*   **gdown:** downloading our dataset\n",
    "*   **tensorflow:** build our deep neural network"
   ]
  },
  {
   "cell_type": "code",
   "execution_count": 2,
   "metadata": {
    "colab": {
     "base_uri": "https://localhost:8080/"
    },
    "executionInfo": {
     "elapsed": 40782,
     "status": "ok",
     "timestamp": 1734197646776,
     "user": {
      "displayName": "Mohamed Zaali",
      "userId": "07924585633667612782"
     },
     "user_tz": -60
    },
    "id": "hNjX4zpJMXXB",
    "outputId": "19ad5219-cd48-4794-ce7a-345853d26365"
   },
   "outputs": [
    {
     "name": "stdout",
     "output_type": "stream",
     "text": [
      "Found existing installation: tensorflow 2.17.1\n",
      "Uninstalling tensorflow-2.17.1:\n",
      "  Would remove:\n",
      "    /usr/local/bin/import_pb_to_tensorboard\n",
      "    /usr/local/bin/saved_model_cli\n",
      "    /usr/local/bin/tensorboard\n",
      "    /usr/local/bin/tf_upgrade_v2\n",
      "    /usr/local/bin/tflite_convert\n",
      "    /usr/local/bin/toco\n",
      "    /usr/local/bin/toco_from_protos\n",
      "    /usr/local/lib/python3.10/dist-packages/tensorflow-2.17.1.dist-info/*\n",
      "    /usr/local/lib/python3.10/dist-packages/tensorflow/*\n",
      "Proceed (Y/n)? Y\n",
      "  Successfully uninstalled tensorflow-2.17.1\n",
      "Found existing installation: keras 3.5.0\n",
      "Uninstalling keras-3.5.0:\n",
      "  Would remove:\n",
      "    /usr/local/lib/python3.10/dist-packages/keras-3.5.0.dist-info/*\n",
      "    /usr/local/lib/python3.10/dist-packages/keras/*\n",
      "Proceed (Y/n)? Y\n",
      "  Successfully uninstalled keras-3.5.0\n"
     ]
    }
   ],
   "source": [
    "%pip uninstall tensorflow\n",
    "%pip uninstall keras"
   ]
  },
  {
   "cell_type": "code",
   "execution_count": 2,
   "metadata": {
    "colab": {
     "base_uri": "https://localhost:8080/",
     "height": 1000
    },
    "executionInfo": {
     "elapsed": 43774,
     "status": "ok",
     "timestamp": 1734197693502,
     "user": {
      "displayName": "Mohamed Zaali",
      "userId": "07924585633667612782"
     },
     "user_tz": -60
    },
    "id": "mgneB0iUMXCf",
    "outputId": "4e9295e7-9687-4bad-ee3d-961d21b77bfc"
   },
   "outputs": [
    {
     "name": "stdout",
     "output_type": "stream",
     "text": [
      "Collecting tensorflow==2.10.0\n",
      "  Downloading tensorflow-2.10.0-cp39-cp39-win_amd64.whl (455.9 MB)\n",
      "Requirement already satisfied: packaging in c:\\users\\mohamed\\desktop\\india s3\\traitement d'image\\lip reading project\\venv\\lib\\site-packages (from tensorflow==2.10.0) (24.2)\n",
      "Collecting opt-einsum>=2.3.2\n",
      "  Downloading opt_einsum-3.4.0-py3-none-any.whl (71 kB)\n",
      "Collecting gast<=0.4.0,>=0.2.1\n",
      "  Downloading gast-0.4.0-py3-none-any.whl (9.8 kB)\n",
      "Requirement already satisfied: setuptools in c:\\users\\mohamed\\desktop\\india s3\\traitement d'image\\lip reading project\\venv\\lib\\site-packages (from tensorflow==2.10.0) (49.2.1)\n",
      "Collecting libclang>=13.0.0\n",
      "  Downloading libclang-18.1.1-py2.py3-none-win_amd64.whl (26.4 MB)\n",
      "Collecting absl-py>=1.0.0\n",
      "  Downloading absl_py-2.1.0-py3-none-any.whl (133 kB)\n",
      "Collecting protobuf<3.20,>=3.9.2\n",
      "  Downloading protobuf-3.19.6-cp39-cp39-win_amd64.whl (895 kB)\n",
      "Collecting grpcio<2.0,>=1.24.3\n",
      "  Downloading grpcio-1.68.1-cp39-cp39-win_amd64.whl (4.4 MB)\n",
      "Collecting numpy>=1.20\n",
      "  Downloading numpy-2.0.2-cp39-cp39-win_amd64.whl (15.9 MB)\n",
      "Collecting wrapt>=1.11.0\n",
      "  Downloading wrapt-1.17.0-cp39-cp39-win_amd64.whl (38 kB)\n",
      "Collecting tensorflow-io-gcs-filesystem>=0.23.1\n",
      "  Downloading tensorflow_io_gcs_filesystem-0.31.0-cp39-cp39-win_amd64.whl (1.5 MB)\n",
      "Collecting h5py>=2.9.0\n",
      "  Downloading h5py-3.12.1-cp39-cp39-win_amd64.whl (3.0 MB)\n",
      "Collecting tensorboard<2.11,>=2.10\n",
      "  Downloading tensorboard-2.10.1-py3-none-any.whl (5.9 MB)\n",
      "Requirement already satisfied: typing-extensions>=3.6.6 in c:\\users\\mohamed\\desktop\\india s3\\traitement d'image\\lip reading project\\venv\\lib\\site-packages (from tensorflow==2.10.0) (4.12.2)\n",
      "Collecting astunparse>=1.6.0\n",
      "  Downloading astunparse-1.6.3-py2.py3-none-any.whl (12 kB)\n",
      "Collecting termcolor>=1.1.0\n",
      "  Downloading termcolor-2.5.0-py3-none-any.whl (7.8 kB)\n",
      "Collecting google-pasta>=0.1.1\n",
      "  Downloading google_pasta-0.2.0-py3-none-any.whl (57 kB)\n",
      "Collecting tensorflow-estimator<2.11,>=2.10.0\n",
      "  Downloading tensorflow_estimator-2.10.0-py2.py3-none-any.whl (438 kB)\n",
      "Collecting flatbuffers>=2.0\n",
      "  Downloading flatbuffers-24.3.25-py2.py3-none-any.whl (26 kB)\n",
      "Collecting keras-preprocessing>=1.1.1\n",
      "  Downloading Keras_Preprocessing-1.1.2-py2.py3-none-any.whl (42 kB)\n",
      "Requirement already satisfied: six>=1.12.0 in c:\\users\\mohamed\\desktop\\india s3\\traitement d'image\\lip reading project\\venv\\lib\\site-packages (from tensorflow==2.10.0) (1.17.0)\n",
      "Collecting keras<2.11,>=2.10.0\n",
      "  Downloading keras-2.10.0-py2.py3-none-any.whl (1.7 MB)\n",
      "Collecting wheel>=0.26\n",
      "  Downloading wheel-0.45.1-py3-none-any.whl (72 kB)\n",
      "Collecting werkzeug>=1.0.1\n",
      "  Downloading werkzeug-3.1.3-py3-none-any.whl (224 kB)\n",
      "Collecting tensorboard-plugin-wit>=1.6.0\n",
      "  Downloading tensorboard_plugin_wit-1.8.1-py3-none-any.whl (781 kB)\n",
      "Collecting requests<3,>=2.21.0\n",
      "  Downloading requests-2.32.3-py3-none-any.whl (64 kB)\n",
      "Collecting google-auth-oauthlib<0.5,>=0.4.1\n",
      "  Downloading google_auth_oauthlib-0.4.6-py2.py3-none-any.whl (18 kB)\n",
      "Collecting tensorboard-data-server<0.7.0,>=0.6.0\n",
      "  Downloading tensorboard_data_server-0.6.1-py3-none-any.whl (2.4 kB)\n",
      "Collecting google-auth<3,>=1.6.3\n",
      "  Downloading google_auth-2.37.0-py2.py3-none-any.whl (209 kB)\n",
      "Collecting markdown>=2.6.8\n",
      "  Downloading Markdown-3.7-py3-none-any.whl (106 kB)\n",
      "Collecting MarkupSafe>=2.1.1\n",
      "  Downloading MarkupSafe-3.0.2-cp39-cp39-win_amd64.whl (15 kB)\n",
      "Collecting urllib3<3,>=1.21.1\n",
      "  Downloading urllib3-2.2.3-py3-none-any.whl (126 kB)\n",
      "Collecting idna<4,>=2.5\n",
      "  Downloading idna-3.10-py3-none-any.whl (70 kB)\n",
      "Collecting certifi>=2017.4.17\n",
      "  Downloading certifi-2024.12.14-py3-none-any.whl (164 kB)\n",
      "Collecting charset-normalizer<4,>=2\n",
      "  Downloading charset_normalizer-3.4.0-cp39-cp39-win_amd64.whl (102 kB)\n",
      "Collecting requests-oauthlib>=0.7.0\n",
      "  Downloading requests_oauthlib-2.0.0-py2.py3-none-any.whl (24 kB)\n",
      "Collecting pyasn1-modules>=0.2.1\n",
      "  Downloading pyasn1_modules-0.4.1-py3-none-any.whl (181 kB)\n",
      "Collecting rsa<5,>=3.1.4\n",
      "  Downloading rsa-4.9-py3-none-any.whl (34 kB)\n",
      "Collecting cachetools<6.0,>=2.0.0\n",
      "  Downloading cachetools-5.5.0-py3-none-any.whl (9.5 kB)\n",
      "Requirement already satisfied: importlib-metadata>=4.4; python_version < \"3.10\" in c:\\users\\mohamed\\desktop\\india s3\\traitement d'image\\lip reading project\\venv\\lib\\site-packages (from markdown>=2.6.8->tensorboard<2.11,>=2.10->tensorflow==2.10.0) (8.5.0)\n",
      "Collecting oauthlib>=3.0.0\n",
      "  Downloading oauthlib-3.2.2-py3-none-any.whl (151 kB)\n",
      "Collecting pyasn1<0.7.0,>=0.4.6\n",
      "  Downloading pyasn1-0.6.1-py3-none-any.whl (83 kB)\n",
      "Requirement already satisfied: zipp>=3.20 in c:\\users\\mohamed\\desktop\\india s3\\traitement d'image\\lip reading project\\venv\\lib\\site-packages (from importlib-metadata>=4.4; python_version < \"3.10\"->markdown>=2.6.8->tensorboard<2.11,>=2.10->tensorflow==2.10.0) (3.21.0)\n",
      "Installing collected packages: opt-einsum, gast, libclang, absl-py, protobuf, grpcio, numpy, wrapt, tensorflow-io-gcs-filesystem, h5py, wheel, MarkupSafe, werkzeug, tensorboard-plugin-wit, urllib3, idna, certifi, charset-normalizer, requests, oauthlib, requests-oauthlib, pyasn1, pyasn1-modules, rsa, cachetools, google-auth, google-auth-oauthlib, tensorboard-data-server, markdown, tensorboard, astunparse, termcolor, google-pasta, tensorflow-estimator, flatbuffers, keras-preprocessing, keras, tensorflow\n",
      "Successfully installed MarkupSafe-3.0.2 absl-py-2.1.0 astunparse-1.6.3 cachetools-5.5.0 certifi-2024.12.14 charset-normalizer-3.4.0 flatbuffers-24.3.25 gast-0.4.0 google-auth-2.37.0 google-auth-oauthlib-0.4.6 google-pasta-0.2.0 grpcio-1.68.1 h5py-3.12.1 idna-3.10 keras-2.10.0 keras-preprocessing-1.1.2 libclang-18.1.1 markdown-3.7 numpy-2.0.2 oauthlib-3.2.2 opt-einsum-3.4.0 protobuf-3.19.6 pyasn1-0.6.1 pyasn1-modules-0.4.1 requests-2.32.3 requests-oauthlib-2.0.0 rsa-4.9 tensorboard-2.10.1 tensorboard-data-server-0.6.1 tensorboard-plugin-wit-1.8.1 tensorflow-2.10.0 tensorflow-estimator-2.10.0 tensorflow-io-gcs-filesystem-0.31.0 termcolor-2.5.0 urllib3-2.2.3 werkzeug-3.1.3 wheel-0.45.1 wrapt-1.17.0\n",
      "Note: you may need to restart the kernel to use updated packages.\n",
      "Requirement already satisfied: keras==2.10.0 in c:\\users\\mohamed\\desktop\\india s3\\traitement d'image\\lip reading project\\venv\\lib\\site-packages (2.10.0)\n",
      "Note: you may need to restart the kernel to use updated packages.\n"
     ]
    }
   ],
   "source": [
    "%pip install tensorflow==2.10.0\n",
    "%pip install keras==2.10.0"
   ]
  },
  {
   "cell_type": "code",
   "execution_count": 1,
   "metadata": {
    "colab": {
     "base_uri": "https://localhost:8080/"
    },
    "executionInfo": {
     "elapsed": 3554,
     "status": "ok",
     "timestamp": 1734197790962,
     "user": {
      "displayName": "Mohamed Zaali",
      "userId": "07924585633667612782"
     },
     "user_tz": -60
    },
    "id": "ywm5lOd9MwLf",
    "outputId": "a1315917-684e-413c-8260-5f517a94e536"
   },
   "outputs": [
    {
     "name": "stdout",
     "output_type": "stream",
     "text": [
      "Collecting opencv-python\n",
      "  Downloading opencv_python-4.10.0.84-cp37-abi3-win_amd64.whl (38.8 MB)\n",
      "Collecting matplotlib\n",
      "  Downloading matplotlib-3.9.4-cp39-cp39-win_amd64.whl (7.8 MB)\n",
      "Collecting imageio\n",
      "  Downloading imageio-2.36.1-py3-none-any.whl (315 kB)\n",
      "Collecting gdown\n",
      "  Downloading gdown-5.2.0-py3-none-any.whl (18 kB)\n",
      "Requirement already satisfied: numpy>=1.19.3; python_version >= \"3.9\" in c:\\users\\mohamed\\desktop\\india s3\\traitement d'image\\lip reading project\\venv\\lib\\site-packages (from opencv-python) (2.0.2)\n",
      "Requirement already satisfied: packaging>=20.0 in c:\\users\\mohamed\\desktop\\india s3\\traitement d'image\\lip reading project\\venv\\lib\\site-packages (from matplotlib) (24.2)\n",
      "Collecting kiwisolver>=1.3.1\n",
      "  Downloading kiwisolver-1.4.7-cp39-cp39-win_amd64.whl (55 kB)\n",
      "Collecting pyparsing>=2.3.1\n",
      "  Downloading pyparsing-3.2.0-py3-none-any.whl (106 kB)\n",
      "Collecting contourpy>=1.0.1\n",
      "  Downloading contourpy-1.3.0-cp39-cp39-win_amd64.whl (211 kB)\n",
      "Requirement already satisfied: python-dateutil>=2.7 in c:\\users\\mohamed\\desktop\\india s3\\traitement d'image\\lip reading project\\venv\\lib\\site-packages (from matplotlib) (2.9.0.post0)\n",
      "Collecting fonttools>=4.22.0\n",
      "  Downloading fonttools-4.55.3-cp39-cp39-win_amd64.whl (2.2 MB)\n",
      "Collecting cycler>=0.10\n",
      "  Downloading cycler-0.12.1-py3-none-any.whl (8.3 kB)\n",
      "Collecting pillow>=8\n",
      "  Downloading pillow-11.0.0-cp39-cp39-win_amd64.whl (2.6 MB)\n",
      "Collecting importlib-resources>=3.2.0; python_version < \"3.10\"\n",
      "  Downloading importlib_resources-6.4.5-py3-none-any.whl (36 kB)\n",
      "Collecting tqdm\n",
      "  Downloading tqdm-4.67.1-py3-none-any.whl (78 kB)\n",
      "Collecting beautifulsoup4\n",
      "  Downloading beautifulsoup4-4.12.3-py3-none-any.whl (147 kB)\n",
      "Requirement already satisfied: requests[socks] in c:\\users\\mohamed\\desktop\\india s3\\traitement d'image\\lip reading project\\venv\\lib\\site-packages (from gdown) (2.32.3)\n",
      "Collecting filelock\n",
      "  Downloading filelock-3.16.1-py3-none-any.whl (16 kB)\n",
      "Requirement already satisfied: six>=1.5 in c:\\users\\mohamed\\desktop\\india s3\\traitement d'image\\lip reading project\\venv\\lib\\site-packages (from python-dateutil>=2.7->matplotlib) (1.17.0)\n",
      "Requirement already satisfied: zipp>=3.1.0; python_version < \"3.10\" in c:\\users\\mohamed\\desktop\\india s3\\traitement d'image\\lip reading project\\venv\\lib\\site-packages (from importlib-resources>=3.2.0; python_version < \"3.10\"->matplotlib) (3.21.0)\n",
      "Requirement already satisfied: colorama; platform_system == \"Windows\" in c:\\users\\mohamed\\desktop\\india s3\\traitement d'image\\lip reading project\\venv\\lib\\site-packages (from tqdm->gdown) (0.4.6)\n",
      "Collecting soupsieve>1.2\n",
      "  Downloading soupsieve-2.6-py3-none-any.whl (36 kB)\n",
      "Requirement already satisfied: urllib3<3,>=1.21.1 in c:\\users\\mohamed\\desktop\\india s3\\traitement d'image\\lip reading project\\venv\\lib\\site-packages (from requests[socks]->gdown) (2.2.3)\n",
      "Requirement already satisfied: certifi>=2017.4.17 in c:\\users\\mohamed\\desktop\\india s3\\traitement d'image\\lip reading project\\venv\\lib\\site-packages (from requests[socks]->gdown) (2024.12.14)\n",
      "Requirement already satisfied: charset-normalizer<4,>=2 in c:\\users\\mohamed\\desktop\\india s3\\traitement d'image\\lip reading project\\venv\\lib\\site-packages (from requests[socks]->gdown) (3.4.0)\n",
      "Requirement already satisfied: idna<4,>=2.5 in c:\\users\\mohamed\\desktop\\india s3\\traitement d'image\\lip reading project\\venv\\lib\\site-packages (from requests[socks]->gdown) (3.10)\n",
      "Collecting PySocks!=1.5.7,>=1.5.6; extra == \"socks\"\n",
      "  Downloading PySocks-1.7.1-py3-none-any.whl (16 kB)\n",
      "Installing collected packages: opencv-python, kiwisolver, pyparsing, contourpy, fonttools, cycler, pillow, importlib-resources, matplotlib, imageio, tqdm, soupsieve, beautifulsoup4, filelock, gdown, PySocks\n",
      "Successfully installed PySocks-1.7.1 beautifulsoup4-4.12.3 contourpy-1.3.0 cycler-0.12.1 filelock-3.16.1 fonttools-4.55.3 gdown-5.2.0 imageio-2.36.1 importlib-resources-6.4.5 kiwisolver-1.4.7 matplotlib-3.9.4 opencv-python-4.10.0.84 pillow-11.0.0 pyparsing-3.2.0 soupsieve-2.6 tqdm-4.67.1\n",
      "Note: you may need to restart the kernel to use updated packages.\n"
     ]
    }
   ],
   "source": [
    "%pip install opencv-python matplotlib imageio gdown"
   ]
  },
  {
   "cell_type": "markdown",
   "metadata": {
    "id": "DFphFwFCQxf8"
   },
   "source": [
    "\n",
    "\n",
    "*   os: makes it easier to navigate and traverse through different file systems\n",
    "*   cv2: needed to last the import opencv\n",
    "*   tensorflow: the primary deep learning framework we're gonna use (we're also gonna use dta pipelines)\n",
    "*   numpy: preprocessing arrays\n",
    "*   typing: type annotations\n",
    "\n"
   ]
  },
  {
   "cell_type": "code",
   "execution_count": 8,
   "metadata": {
    "executionInfo": {
     "elapsed": 10201,
     "status": "ok",
     "timestamp": 1734197807088,
     "user": {
      "displayName": "Mohamed Zaali",
      "userId": "07924585633667612782"
     },
     "user_tz": -60
    },
    "id": "YWIjG1-iQTi0"
   },
   "outputs": [],
   "source": [
    "import os\n",
    "import cv2\n",
    "import tensorflow as tf\n",
    "import numpy as np\n",
    "from typing import List\n",
    "from matplotlib import pyplot as plt\n",
    "import imageio"
   ]
  },
  {
   "cell_type": "code",
   "execution_count": 9,
   "metadata": {
    "colab": {
     "base_uri": "https://localhost:8080/"
    },
    "executionInfo": {
     "elapsed": 292,
     "status": "ok",
     "timestamp": 1734197814991,
     "user": {
      "displayName": "Mohamed Zaali",
      "userId": "07924585633667612782"
     },
     "user_tz": -60
    },
    "id": "JW2d-GJ6OFpn",
    "outputId": "08b47a7d-2672-4b86-f4a9-c8c31fb44af8"
   },
   "outputs": [
    {
     "data": {
      "text/plain": [
       "[PhysicalDevice(name='/physical_device:GPU:0', device_type='GPU')]"
      ]
     },
     "execution_count": 9,
     "metadata": {},
     "output_type": "execute_result"
    }
   ],
   "source": [
    "tf.config.list_physical_devices('GPU') #allows us to see which physical devices we have on our machine"
   ]
  },
  {
   "cell_type": "markdown",
   "metadata": {
    "id": "-Skkh8KETK-h"
   },
   "source": [
    "The next line prevents exponential memory growth"
   ]
  },
  {
   "cell_type": "code",
   "execution_count": 10,
   "metadata": {
    "executionInfo": {
     "elapsed": 248,
     "status": "ok",
     "timestamp": 1734197818942,
     "user": {
      "displayName": "Mohamed Zaali",
      "userId": "07924585633667612782"
     },
     "user_tz": -60
    },
    "id": "rzjo1p7jT2SP"
   },
   "outputs": [],
   "source": [
    "physical_devices = tf.config.list_physical_devices('GPU') #allows us to see which physical devices we have on our machine\n",
    "try:\n",
    "  tf.config.experimental.set_memory_growth(physical_devices[0], True)\n",
    "except:\n",
    "  pass"
   ]
  },
  {
   "cell_type": "markdown",
   "metadata": {
    "id": "OIxgyEf9XGd8"
   },
   "source": [
    "# BUILD DATA LOADING FUNCTIONS"
   ]
  },
  {
   "cell_type": "markdown",
   "metadata": {
    "id": "HA76a1HbXmYk"
   },
   "source": [
    "In this part, we're gonna load up our videos and preprocess our annotations(in this case they're sentences)"
   ]
  },
  {
   "cell_type": "code",
   "execution_count": 11,
   "metadata": {
    "executionInfo": {
     "elapsed": 582,
     "status": "ok",
     "timestamp": 1734197824505,
     "user": {
      "displayName": "Mohamed Zaali",
      "userId": "07924585633667612782"
     },
     "user_tz": -60
    },
    "id": "a8wZI_rUXFWW"
   },
   "outputs": [],
   "source": [
    "import gdown #gdown makes it easy to get data from google drive"
   ]
  },
  {
   "cell_type": "code",
   "execution_count": 7,
   "metadata": {
    "colab": {
     "base_uri": "https://localhost:8080/"
    },
    "executionInfo": {
     "elapsed": 14734,
     "status": "ok",
     "timestamp": 1734197841273,
     "user": {
      "displayName": "Mohamed Zaali",
      "userId": "07924585633667612782"
     },
     "user_tz": -60
    },
    "id": "lGaNgE3XYKVd",
    "outputId": "30be54b0-2523-4cc1-8f85-47cfc43ec4bb"
   },
   "outputs": [
    {
     "name": "stderr",
     "output_type": "stream",
     "text": [
      "Downloading...\n",
      "From (original): https://drive.google.com/uc?id=1YlvpDLix3S-U8fd-gqRwPcWXAXm8JwjL\n",
      "From (redirected): https://drive.google.com/uc?id=1YlvpDLix3S-U8fd-gqRwPcWXAXm8JwjL&confirm=t&uuid=3d8a8eba-9023-4a62-8cad-70cce800f4d8\n",
      "To: /content/data.zip\n",
      "100%|██████████| 423M/423M [00:05<00:00, 78.5MB/s]\n"
     ]
    },
    {
     "data": {
      "text/plain": [
       "['data/',\n",
       " 'data/alignments/',\n",
       " 'data/alignments/s1/',\n",
       " 'data/alignments/s1/bbaf2n.align',\n",
       " 'data/alignments/s1/bbaf3s.align',\n",
       " 'data/alignments/s1/bbaf4p.align',\n",
       " 'data/alignments/s1/bbaf5a.align',\n",
       " 'data/alignments/s1/bbal6n.align',\n",
       " 'data/alignments/s1/bbal7s.align',\n",
       " 'data/alignments/s1/bbal8p.align',\n",
       " 'data/alignments/s1/bbal9a.align',\n",
       " 'data/alignments/s1/bbas1s.align',\n",
       " 'data/alignments/s1/bbas2p.align',\n",
       " 'data/alignments/s1/bbas3a.align',\n",
       " 'data/alignments/s1/bbaszn.align',\n",
       " 'data/alignments/s1/bbaz4n.align',\n",
       " 'data/alignments/s1/bbaz5s.align',\n",
       " 'data/alignments/s1/bbaz6p.align',\n",
       " 'data/alignments/s1/bbaz7a.align',\n",
       " 'data/alignments/s1/bbbf6n.align',\n",
       " 'data/alignments/s1/bbbf7s.align',\n",
       " 'data/alignments/s1/bbbf8p.align',\n",
       " 'data/alignments/s1/bbbf9a.align',\n",
       " 'data/alignments/s1/bbbm1s.align',\n",
       " 'data/alignments/s1/bbbm2p.align',\n",
       " 'data/alignments/s1/bbbm3a.align',\n",
       " 'data/alignments/s1/bbbmzn.align',\n",
       " 'data/alignments/s1/bbbs4n.align',\n",
       " 'data/alignments/s1/bbbs5s.align',\n",
       " 'data/alignments/s1/bbbs6p.align',\n",
       " 'data/alignments/s1/bbbs7a.align',\n",
       " 'data/alignments/s1/bbbz8n.align',\n",
       " 'data/alignments/s1/bbbz9s.align',\n",
       " 'data/alignments/s1/bbie8n.align',\n",
       " 'data/alignments/s1/bbie9s.align',\n",
       " 'data/alignments/s1/bbif1a.align',\n",
       " 'data/alignments/s1/bbifzp.align',\n",
       " 'data/alignments/s1/bbil2n.align',\n",
       " 'data/alignments/s1/bbil3s.align',\n",
       " 'data/alignments/s1/bbil4p.align',\n",
       " 'data/alignments/s1/bbil5a.align',\n",
       " 'data/alignments/s1/bbir6n.align',\n",
       " 'data/alignments/s1/bbir7s.align',\n",
       " 'data/alignments/s1/bbir8p.align',\n",
       " 'data/alignments/s1/bbir9a.align',\n",
       " 'data/alignments/s1/bbiz1s.align',\n",
       " 'data/alignments/s1/bbiz2p.align',\n",
       " 'data/alignments/s1/bbiz3a.align',\n",
       " 'data/alignments/s1/bbizzn.align',\n",
       " 'data/alignments/s1/bbwg1s.align',\n",
       " 'data/alignments/s1/bbwg2p.align',\n",
       " 'data/alignments/s1/bbwg3a.align',\n",
       " 'data/alignments/s1/bbwgzn.align',\n",
       " 'data/alignments/s1/bbwm4n.align',\n",
       " 'data/alignments/s1/bbwm5s.align',\n",
       " 'data/alignments/s1/bbwm6p.align',\n",
       " 'data/alignments/s1/bbwm7a.align',\n",
       " 'data/alignments/s1/bbws8n.align',\n",
       " 'data/alignments/s1/bbws9s.align',\n",
       " 'data/alignments/s1/bbwt1a.align',\n",
       " 'data/alignments/s1/bbwtzp.align',\n",
       " 'data/alignments/s1/bgaa6n.align',\n",
       " 'data/alignments/s1/bgaa7s.align',\n",
       " 'data/alignments/s1/bgaa8p.align',\n",
       " 'data/alignments/s1/bgaa9a.align',\n",
       " 'data/alignments/s1/bgah1s.align',\n",
       " 'data/alignments/s1/bgah2p.align',\n",
       " 'data/alignments/s1/bgah3a.align',\n",
       " 'data/alignments/s1/bgahzn.align',\n",
       " 'data/alignments/s1/bgan4n.align',\n",
       " 'data/alignments/s1/bgan5s.align',\n",
       " 'data/alignments/s1/bgan6p.align',\n",
       " 'data/alignments/s1/bgan7a.align',\n",
       " 'data/alignments/s1/bgat8n.align',\n",
       " 'data/alignments/s1/bgat9s.align',\n",
       " 'data/alignments/s1/bgau1a.align',\n",
       " 'data/alignments/s1/bgauzp.align',\n",
       " 'data/alignments/s1/bgbb1s.align',\n",
       " 'data/alignments/s1/bgbb2p.align',\n",
       " 'data/alignments/s1/bgbb3a.align',\n",
       " 'data/alignments/s1/bgbbzn.align',\n",
       " 'data/alignments/s1/bgbh4n.align',\n",
       " 'data/alignments/s1/bgbh5s.align',\n",
       " 'data/alignments/s1/bgbh6p.align',\n",
       " 'data/alignments/s1/bgbh7a.align',\n",
       " 'data/alignments/s1/bgbn8n.align',\n",
       " 'data/alignments/s1/bgbn9s.align',\n",
       " 'data/alignments/s1/bgbo1a.align',\n",
       " 'data/alignments/s1/bgbozp.align',\n",
       " 'data/alignments/s1/bgbu2n.align',\n",
       " 'data/alignments/s1/bgbu3s.align',\n",
       " 'data/alignments/s1/bgbu4p.align',\n",
       " 'data/alignments/s1/bgbu5a.align',\n",
       " 'data/alignments/s1/bgia2n.align',\n",
       " 'data/alignments/s1/bgia3s.align',\n",
       " 'data/alignments/s1/bgia4p.align',\n",
       " 'data/alignments/s1/bgia5a.align',\n",
       " 'data/alignments/s1/bgig6n.align',\n",
       " 'data/alignments/s1/bgig7s.align',\n",
       " 'data/alignments/s1/bgig8p.align',\n",
       " 'data/alignments/s1/bgig9a.align',\n",
       " 'data/alignments/s1/bgin1s.align',\n",
       " 'data/alignments/s1/bgin2p.align',\n",
       " 'data/alignments/s1/bgin3a.align',\n",
       " 'data/alignments/s1/bginzn.align',\n",
       " 'data/alignments/s1/bgit4n.align',\n",
       " 'data/alignments/s1/bgit5s.align',\n",
       " 'data/alignments/s1/bgit6p.align',\n",
       " 'data/alignments/s1/bgit7a.align',\n",
       " 'data/alignments/s1/bgwb4n.align',\n",
       " 'data/alignments/s1/bgwb5s.align',\n",
       " 'data/alignments/s1/bgwb6p.align',\n",
       " 'data/alignments/s1/bgwb7a.align',\n",
       " 'data/alignments/s1/bgwh8n.align',\n",
       " 'data/alignments/s1/bgwh9s.align',\n",
       " 'data/alignments/s1/bgwi1a.align',\n",
       " 'data/alignments/s1/bgwizp.align',\n",
       " 'data/alignments/s1/bgwo2n.align',\n",
       " 'data/alignments/s1/bgwo3s.align',\n",
       " 'data/alignments/s1/bgwo4p.align',\n",
       " 'data/alignments/s1/bgwo5a.align',\n",
       " 'data/alignments/s1/bgwu6n.align',\n",
       " 'data/alignments/s1/bgwu7s.align',\n",
       " 'data/alignments/s1/bgwu8p.align',\n",
       " 'data/alignments/s1/bgwu9a.align',\n",
       " 'data/alignments/s1/braf8n.align',\n",
       " 'data/alignments/s1/braf9s.align',\n",
       " 'data/alignments/s1/brag1a.align',\n",
       " 'data/alignments/s1/bragzp.align',\n",
       " 'data/alignments/s1/bram2n.align',\n",
       " 'data/alignments/s1/bram3s.align',\n",
       " 'data/alignments/s1/bram4p.align',\n",
       " 'data/alignments/s1/bram5a.align',\n",
       " 'data/alignments/s1/bras6n.align',\n",
       " 'data/alignments/s1/bras7s.align',\n",
       " 'data/alignments/s1/bras8p.align',\n",
       " 'data/alignments/s1/bras9a.align',\n",
       " 'data/alignments/s1/brba1a.align',\n",
       " 'data/alignments/s1/brbazp.align',\n",
       " 'data/alignments/s1/brbg2n.align',\n",
       " 'data/alignments/s1/brbg3s.align',\n",
       " 'data/alignments/s1/brbg4p.align',\n",
       " 'data/alignments/s1/brbg5a.align',\n",
       " 'data/alignments/s1/brbm6n.align',\n",
       " 'data/alignments/s1/brbm7s.align',\n",
       " 'data/alignments/s1/brbm8p.align',\n",
       " 'data/alignments/s1/brbm9a.align',\n",
       " 'data/alignments/s1/brbt1s.align',\n",
       " 'data/alignments/s1/brbt2p.align',\n",
       " 'data/alignments/s1/brbt3a.align',\n",
       " 'data/alignments/s1/brbtzn.align',\n",
       " 'data/alignments/s1/brif4n.align',\n",
       " 'data/alignments/s1/brif5s.align',\n",
       " 'data/alignments/s1/brif6p.align',\n",
       " 'data/alignments/s1/brif7a.align',\n",
       " 'data/alignments/s1/bril8n.align',\n",
       " 'data/alignments/s1/bril9s.align',\n",
       " 'data/alignments/s1/brim1a.align',\n",
       " 'data/alignments/s1/brimzp.align',\n",
       " 'data/alignments/s1/bris2n.align',\n",
       " 'data/alignments/s1/bris3s.align',\n",
       " 'data/alignments/s1/bris4p.align',\n",
       " 'data/alignments/s1/bris5a.align',\n",
       " 'data/alignments/s1/briz6n.align',\n",
       " 'data/alignments/s1/briz7s.align',\n",
       " 'data/alignments/s1/briz8p.align',\n",
       " 'data/alignments/s1/briz9a.align',\n",
       " 'data/alignments/s1/brwa2n.align',\n",
       " 'data/alignments/s1/brwa3s.align',\n",
       " 'data/alignments/s1/brwa4p.align',\n",
       " 'data/alignments/s1/brwa5a.align',\n",
       " 'data/alignments/s1/brwg6n.align',\n",
       " 'data/alignments/s1/brwg7s.align',\n",
       " 'data/alignments/s1/brwg8p.align',\n",
       " 'data/alignments/s1/brwg9a.align',\n",
       " 'data/alignments/s1/brwn1s.align',\n",
       " 'data/alignments/s1/brwn2p.align',\n",
       " 'data/alignments/s1/brwn3a.align',\n",
       " 'data/alignments/s1/brwnzn.align',\n",
       " 'data/alignments/s1/brwt4n.align',\n",
       " 'data/alignments/s1/brwt5s.align',\n",
       " 'data/alignments/s1/brwt6p.align',\n",
       " 'data/alignments/s1/brwt7a.align',\n",
       " 'data/alignments/s1/bwaa1s.align',\n",
       " 'data/alignments/s1/bwaa2p.align',\n",
       " 'data/alignments/s1/bwaa3a.align',\n",
       " 'data/alignments/s1/bwaazn.align',\n",
       " 'data/alignments/s1/bwag4n.align',\n",
       " 'data/alignments/s1/bwag5s.align',\n",
       " 'data/alignments/s1/bwag6p.align',\n",
       " 'data/alignments/s1/bwag7a.align',\n",
       " 'data/alignments/s1/bwam8n.align',\n",
       " 'data/alignments/s1/bwam9s.align',\n",
       " 'data/alignments/s1/bwan1a.align',\n",
       " 'data/alignments/s1/bwanzp.align',\n",
       " 'data/alignments/s1/bwat2n.align',\n",
       " 'data/alignments/s1/bwat3s.align',\n",
       " 'data/alignments/s1/bwat4p.align',\n",
       " 'data/alignments/s1/bwat5a.align',\n",
       " 'data/alignments/s1/bwba4n.align',\n",
       " 'data/alignments/s1/bwba5s.align',\n",
       " 'data/alignments/s1/bwba6p.align',\n",
       " 'data/alignments/s1/bwba7a.align',\n",
       " 'data/alignments/s1/bwbg8n.align',\n",
       " 'data/alignments/s1/bwbg9s.align',\n",
       " 'data/alignments/s1/bwbh1a.align',\n",
       " 'data/alignments/s1/bwbhzp.align',\n",
       " 'data/alignments/s1/bwbn2n.align',\n",
       " 'data/alignments/s1/bwbn3s.align',\n",
       " 'data/alignments/s1/bwbn4p.align',\n",
       " 'data/alignments/s1/bwbn5a.align',\n",
       " 'data/alignments/s1/bwbt6n.align',\n",
       " 'data/alignments/s1/bwbt7s.align',\n",
       " 'data/alignments/s1/bwbt8p.align',\n",
       " 'data/alignments/s1/bwbt9a.align',\n",
       " 'data/alignments/s1/bwig1s.align',\n",
       " 'data/alignments/s1/bwig2p.align',\n",
       " 'data/alignments/s1/bwig3a.align',\n",
       " 'data/alignments/s1/bwigzn.align',\n",
       " 'data/alignments/s1/bwim4n.align',\n",
       " 'data/alignments/s1/bwim5s.align',\n",
       " 'data/alignments/s1/bwim6p.align',\n",
       " 'data/alignments/s1/bwim7a.align',\n",
       " 'data/alignments/s1/bwis8n.align',\n",
       " 'data/alignments/s1/bwis9s.align',\n",
       " 'data/alignments/s1/bwit1a.align',\n",
       " 'data/alignments/s1/bwitzp.align',\n",
       " 'data/alignments/s1/bwwa8n.align',\n",
       " 'data/alignments/s1/bwwa9s.align',\n",
       " 'data/alignments/s1/bwwb1a.align',\n",
       " 'data/alignments/s1/bwwbzp.align',\n",
       " 'data/alignments/s1/bwwh2n.align',\n",
       " 'data/alignments/s1/bwwh3s.align',\n",
       " 'data/alignments/s1/bwwh4p.align',\n",
       " 'data/alignments/s1/bwwh5a.align',\n",
       " 'data/alignments/s1/bwwn6n.align',\n",
       " 'data/alignments/s1/bwwn7s.align',\n",
       " 'data/alignments/s1/bwwn8p.align',\n",
       " 'data/alignments/s1/bwwn9a.align',\n",
       " 'data/alignments/s1/bwwu1s.align',\n",
       " 'data/alignments/s1/bwwu2p.align',\n",
       " 'data/alignments/s1/bwwu3a.align',\n",
       " 'data/alignments/s1/bwwuzn.align',\n",
       " 'data/alignments/s1/lbad6n.align',\n",
       " 'data/alignments/s1/lbad7s.align',\n",
       " 'data/alignments/s1/lbad8p.align',\n",
       " 'data/alignments/s1/lbad9a.align',\n",
       " 'data/alignments/s1/lbak1s.align',\n",
       " 'data/alignments/s1/lbak2p.align',\n",
       " 'data/alignments/s1/lbak3a.align',\n",
       " 'data/alignments/s1/lbakzn.align',\n",
       " 'data/alignments/s1/lbaq4n.align',\n",
       " 'data/alignments/s1/lbaq5s.align',\n",
       " 'data/alignments/s1/lbaq6p.align',\n",
       " 'data/alignments/s1/lbaq7a.align',\n",
       " 'data/alignments/s1/lbax8n.align',\n",
       " 'data/alignments/s1/lbax9s.align',\n",
       " 'data/alignments/s1/lbay1a.align',\n",
       " 'data/alignments/s1/lbayzp.align',\n",
       " 'data/alignments/s1/lbbe1s.align',\n",
       " 'data/alignments/s1/lbbe2p.align',\n",
       " 'data/alignments/s1/lbbe3a.align',\n",
       " 'data/alignments/s1/lbbezn.align',\n",
       " 'data/alignments/s1/lbbk4n.align',\n",
       " 'data/alignments/s1/lbbk5s.align',\n",
       " 'data/alignments/s1/lbbk6p.align',\n",
       " 'data/alignments/s1/lbbk7a.align',\n",
       " 'data/alignments/s1/lbbq8n.align',\n",
       " 'data/alignments/s1/lbbq9s.align',\n",
       " 'data/alignments/s1/lbbr1a.align',\n",
       " 'data/alignments/s1/lbbrzp.align',\n",
       " 'data/alignments/s1/lbby2n.align',\n",
       " 'data/alignments/s1/lbby3s.align',\n",
       " 'data/alignments/s1/lbby4p.align',\n",
       " 'data/alignments/s1/lbby5a.align',\n",
       " 'data/alignments/s1/lbid2n.align',\n",
       " 'data/alignments/s1/lbid3s.align',\n",
       " 'data/alignments/s1/lbid4p.align',\n",
       " 'data/alignments/s1/lbid5a.align',\n",
       " 'data/alignments/s1/lbij6n.align',\n",
       " 'data/alignments/s1/lbij7s.align',\n",
       " 'data/alignments/s1/lbij8p.align',\n",
       " 'data/alignments/s1/lbij9a.align',\n",
       " 'data/alignments/s1/lbiq1s.align',\n",
       " 'data/alignments/s1/lbiq2p.align',\n",
       " 'data/alignments/s1/lbiq3a.align',\n",
       " 'data/alignments/s1/lbiqzn.align',\n",
       " 'data/alignments/s1/lbix4n.align',\n",
       " 'data/alignments/s1/lbix5s.align',\n",
       " 'data/alignments/s1/lbix6p.align',\n",
       " 'data/alignments/s1/lbix7a.align',\n",
       " 'data/alignments/s1/lbwe4n.align',\n",
       " 'data/alignments/s1/lbwe5s.align',\n",
       " 'data/alignments/s1/lbwe6p.align',\n",
       " 'data/alignments/s1/lbwe7a.align',\n",
       " 'data/alignments/s1/lbwk8n.align',\n",
       " 'data/alignments/s1/lbwk9s.align',\n",
       " 'data/alignments/s1/lbwl1a.align',\n",
       " 'data/alignments/s1/lbwlzp.align',\n",
       " 'data/alignments/s1/lbwr2n.align',\n",
       " 'data/alignments/s1/lbwr3s.align',\n",
       " 'data/alignments/s1/lbwr4p.align',\n",
       " 'data/alignments/s1/lbwr5a.align',\n",
       " 'data/alignments/s1/lbwy6n.align',\n",
       " 'data/alignments/s1/lbwy7s.align',\n",
       " 'data/alignments/s1/lbwy8p.align',\n",
       " 'data/alignments/s1/lbwy9a.align',\n",
       " 'data/alignments/s1/lgaf4n.align',\n",
       " 'data/alignments/s1/lgaf5s.align',\n",
       " 'data/alignments/s1/lgaf6p.align',\n",
       " 'data/alignments/s1/lgaf7a.align',\n",
       " 'data/alignments/s1/lgal8n.align',\n",
       " 'data/alignments/s1/lgal9s.align',\n",
       " 'data/alignments/s1/lgam1a.align',\n",
       " 'data/alignments/s1/lgamzp.align',\n",
       " 'data/alignments/s1/lgas2n.align',\n",
       " 'data/alignments/s1/lgas3s.align',\n",
       " 'data/alignments/s1/lgas4p.align',\n",
       " 'data/alignments/s1/lgas5a.align',\n",
       " 'data/alignments/s1/lgaz6n.align',\n",
       " 'data/alignments/s1/lgaz7s.align',\n",
       " 'data/alignments/s1/lgaz8p.align',\n",
       " 'data/alignments/s1/lgaz9a.align',\n",
       " 'data/alignments/s1/lgbf8n.align',\n",
       " 'data/alignments/s1/lgbf9s.align',\n",
       " 'data/alignments/s1/lgbg1a.align',\n",
       " 'data/alignments/s1/lgbgzp.align',\n",
       " 'data/alignments/s1/lgbm2n.align',\n",
       " 'data/alignments/s1/lgbm3s.align',\n",
       " 'data/alignments/s1/lgbm4p.align',\n",
       " 'data/alignments/s1/lgbm5a.align',\n",
       " 'data/alignments/s1/lgbs6n.align',\n",
       " 'data/alignments/s1/lgbs7s.align',\n",
       " 'data/alignments/s1/lgbs8p.align',\n",
       " 'data/alignments/s1/lgbs9a.align',\n",
       " 'data/alignments/s1/lgif1s.align',\n",
       " 'data/alignments/s1/lgif2p.align',\n",
       " 'data/alignments/s1/lgif3a.align',\n",
       " 'data/alignments/s1/lgifzn.align',\n",
       " 'data/alignments/s1/lgil4n.align',\n",
       " 'data/alignments/s1/lgil5s.align',\n",
       " 'data/alignments/s1/lgil6p.align',\n",
       " 'data/alignments/s1/lgil7a.align',\n",
       " 'data/alignments/s1/lgir8n.align',\n",
       " 'data/alignments/s1/lgir9s.align',\n",
       " 'data/alignments/s1/lgis1a.align',\n",
       " 'data/alignments/s1/lgiszp.align',\n",
       " 'data/alignments/s1/lgiz2n.align',\n",
       " 'data/alignments/s1/lgiz3s.align',\n",
       " 'data/alignments/s1/lgiz4p.align',\n",
       " 'data/alignments/s1/lgiz5a.align',\n",
       " 'data/alignments/s1/lgwa1a.align',\n",
       " 'data/alignments/s1/lgwazp.align',\n",
       " 'data/alignments/s1/lgwg2n.align',\n",
       " 'data/alignments/s1/lgwg3s.align',\n",
       " 'data/alignments/s1/lgwg4p.align',\n",
       " 'data/alignments/s1/lgwg5a.align',\n",
       " 'data/alignments/s1/lgwm6n.align',\n",
       " 'data/alignments/s1/lgwm7s.align',\n",
       " 'data/alignments/s1/lgwm8p.align',\n",
       " 'data/alignments/s1/lgwm9a.align',\n",
       " 'data/alignments/s1/lgwt1s.align',\n",
       " 'data/alignments/s1/lgwt2p.align',\n",
       " 'data/alignments/s1/lgwt3a.align',\n",
       " 'data/alignments/s1/lgwtzn.align',\n",
       " 'data/alignments/s1/lrae2n.align',\n",
       " 'data/alignments/s1/lrae3s.align',\n",
       " 'data/alignments/s1/lrae4p.align',\n",
       " 'data/alignments/s1/lrae5a.align',\n",
       " 'data/alignments/s1/lrak6n.align',\n",
       " 'data/alignments/s1/lrak7s.align',\n",
       " 'data/alignments/s1/lrak8p.align',\n",
       " 'data/alignments/s1/lrak9a.align',\n",
       " 'data/alignments/s1/lrar1s.align',\n",
       " 'data/alignments/s1/lrar2p.align',\n",
       " 'data/alignments/s1/lrar3a.align',\n",
       " 'data/alignments/s1/lrarzn.align',\n",
       " 'data/alignments/s1/lray4n.align',\n",
       " 'data/alignments/s1/lray5s.align',\n",
       " 'data/alignments/s1/lray6p.align',\n",
       " 'data/alignments/s1/lray7a.align',\n",
       " 'data/alignments/s1/lrbe6n.align',\n",
       " 'data/alignments/s1/lrbe7s.align',\n",
       " 'data/alignments/s1/lrbe8p.align',\n",
       " 'data/alignments/s1/lrbe9a.align',\n",
       " 'data/alignments/s1/lrbl1s.align',\n",
       " 'data/alignments/s1/lrbl2p.align',\n",
       " 'data/alignments/s1/lrbl3a.align',\n",
       " 'data/alignments/s1/lrblzn.align',\n",
       " 'data/alignments/s1/lrbr4n.align',\n",
       " 'data/alignments/s1/lrbr5s.align',\n",
       " 'data/alignments/s1/lrbr6p.align',\n",
       " 'data/alignments/s1/lrbr7a.align',\n",
       " 'data/alignments/s1/lrby8n.align',\n",
       " 'data/alignments/s1/lrby9s.align',\n",
       " 'data/alignments/s1/lrbz1a.align',\n",
       " 'data/alignments/s1/lrbzzp.align',\n",
       " 'data/alignments/s1/lrid8n.align',\n",
       " 'data/alignments/s1/lrid9s.align',\n",
       " 'data/alignments/s1/lrie1a.align',\n",
       " 'data/alignments/s1/lriezp.align',\n",
       " 'data/alignments/s1/lrik2n.align',\n",
       " 'data/alignments/s1/lrik3s.align',\n",
       " 'data/alignments/s1/lrik4p.align',\n",
       " 'data/alignments/s1/lrik5a.align',\n",
       " 'data/alignments/s1/lriq6n.align',\n",
       " 'data/alignments/s1/lriq7s.align',\n",
       " 'data/alignments/s1/lriq8p.align',\n",
       " 'data/alignments/s1/lriq9a.align',\n",
       " 'data/alignments/s1/lriy1s.align',\n",
       " 'data/alignments/s1/lriy2p.align',\n",
       " 'data/alignments/s1/lriy3a.align',\n",
       " 'data/alignments/s1/lriyzn.align',\n",
       " 'data/alignments/s1/lrwf1s.align',\n",
       " 'data/alignments/s1/lrwf2p.align',\n",
       " 'data/alignments/s1/lrwf3a.align',\n",
       " 'data/alignments/s1/lrwfzn.align',\n",
       " 'data/alignments/s1/lrwl4n.align',\n",
       " 'data/alignments/s1/lrwl5s.align',\n",
       " 'data/alignments/s1/lrwl6p.align',\n",
       " 'data/alignments/s1/lrwl7a.align',\n",
       " 'data/alignments/s1/lrwr8n.align',\n",
       " 'data/alignments/s1/lrwr9s.align',\n",
       " 'data/alignments/s1/lrws1a.align',\n",
       " 'data/alignments/s1/lrwszp.align',\n",
       " 'data/alignments/s1/lrwz2n.align',\n",
       " 'data/alignments/s1/lrwz3s.align',\n",
       " 'data/alignments/s1/lrwz4p.align',\n",
       " 'data/alignments/s1/lrwz5a.align',\n",
       " 'data/alignments/s1/lwae8n.align',\n",
       " 'data/alignments/s1/lwae9s.align',\n",
       " 'data/alignments/s1/lwaf1a.align',\n",
       " 'data/alignments/s1/lwafzp.align',\n",
       " 'data/alignments/s1/lwal2n.align',\n",
       " 'data/alignments/s1/lwal3s.align',\n",
       " 'data/alignments/s1/lwal4p.align',\n",
       " 'data/alignments/s1/lwal5a.align',\n",
       " 'data/alignments/s1/lwar6n.align',\n",
       " 'data/alignments/s1/lwar7s.align',\n",
       " 'data/alignments/s1/lwar8p.align',\n",
       " 'data/alignments/s1/lwar9a.align',\n",
       " 'data/alignments/s1/lwaz1s.align',\n",
       " 'data/alignments/s1/lwaz2p.align',\n",
       " 'data/alignments/s1/lwaz3a.align',\n",
       " 'data/alignments/s1/lwazzn.align',\n",
       " 'data/alignments/s1/lwbf2n.align',\n",
       " 'data/alignments/s1/lwbf3s.align',\n",
       " 'data/alignments/s1/lwbf4p.align',\n",
       " 'data/alignments/s1/lwbf5a.align',\n",
       " 'data/alignments/s1/lwbl6n.align',\n",
       " 'data/alignments/s1/lwbl7s.align',\n",
       " 'data/alignments/s1/lwbl8p.align',\n",
       " 'data/alignments/s1/lwbl9a.align',\n",
       " 'data/alignments/s1/lwbs1s.align',\n",
       " 'data/alignments/s1/lwbs2p.align',\n",
       " 'data/alignments/s1/lwbs3a.align',\n",
       " 'data/alignments/s1/lwbszn.align',\n",
       " 'data/alignments/s1/lwbz4n.align',\n",
       " 'data/alignments/s1/lwbz5s.align',\n",
       " 'data/alignments/s1/lwbz6p.align',\n",
       " 'data/alignments/s1/lwbz7a.align',\n",
       " 'data/alignments/s1/lwie4n.align',\n",
       " 'data/alignments/s1/lwie5s.align',\n",
       " 'data/alignments/s1/lwie6p.align',\n",
       " 'data/alignments/s1/lwie7a.align',\n",
       " 'data/alignments/s1/lwik8n.align',\n",
       " 'data/alignments/s1/lwik9s.align',\n",
       " 'data/alignments/s1/lwil1a.align',\n",
       " 'data/alignments/s1/lwilzp.align',\n",
       " 'data/alignments/s1/lwir2n.align',\n",
       " 'data/alignments/s1/lwir3s.align',\n",
       " 'data/alignments/s1/lwir4p.align',\n",
       " 'data/alignments/s1/lwir5a.align',\n",
       " 'data/alignments/s1/lwiy6n.align',\n",
       " 'data/alignments/s1/lwiy7s.align',\n",
       " 'data/alignments/s1/lwiy8p.align',\n",
       " 'data/alignments/s1/lwiy9a.align',\n",
       " 'data/alignments/s1/lwwf6n.align',\n",
       " 'data/alignments/s1/lwwf7s.align',\n",
       " 'data/alignments/s1/lwwf8p.align',\n",
       " 'data/alignments/s1/lwwf9a.align',\n",
       " 'data/alignments/s1/lwwm1s.align',\n",
       " 'data/alignments/s1/lwwm2p.align',\n",
       " 'data/alignments/s1/lwwm3a.align',\n",
       " 'data/alignments/s1/lwwmzn.align',\n",
       " 'data/alignments/s1/lwws4n.align',\n",
       " 'data/alignments/s1/lwws5s.align',\n",
       " 'data/alignments/s1/lwws6p.align',\n",
       " 'data/alignments/s1/lwws7a.align',\n",
       " 'data/alignments/s1/lwwz8n.align',\n",
       " 'data/alignments/s1/lwwz9s.align',\n",
       " 'data/alignments/s1/pbac1s.align',\n",
       " 'data/alignments/s1/pbac2p.align',\n",
       " 'data/alignments/s1/pbac3a.align',\n",
       " 'data/alignments/s1/pbaczn.align',\n",
       " 'data/alignments/s1/pbai4n.align',\n",
       " 'data/alignments/s1/pbai5s.align',\n",
       " 'data/alignments/s1/pbai6p.align',\n",
       " 'data/alignments/s1/pbai7a.align',\n",
       " 'data/alignments/s1/pbao8n.align',\n",
       " 'data/alignments/s1/pbao9s.align',\n",
       " 'data/alignments/s1/pbap1a.align',\n",
       " 'data/alignments/s1/pbapzp.align',\n",
       " 'data/alignments/s1/pbav2n.align',\n",
       " 'data/alignments/s1/pbav3s.align',\n",
       " 'data/alignments/s1/pbav4p.align',\n",
       " 'data/alignments/s1/pbav5a.align',\n",
       " 'data/alignments/s1/pbbc4n.align',\n",
       " 'data/alignments/s1/pbbc5s.align',\n",
       " 'data/alignments/s1/pbbc6p.align',\n",
       " 'data/alignments/s1/pbbc7a.align',\n",
       " 'data/alignments/s1/pbbi8n.align',\n",
       " 'data/alignments/s1/pbbi9s.align',\n",
       " 'data/alignments/s1/pbbj1a.align',\n",
       " 'data/alignments/s1/pbbjzp.align',\n",
       " 'data/alignments/s1/pbbp2n.align',\n",
       " 'data/alignments/s1/pbbp3s.align',\n",
       " 'data/alignments/s1/pbbp4p.align',\n",
       " 'data/alignments/s1/pbbp5a.align',\n",
       " 'data/alignments/s1/pbbv6n.align',\n",
       " 'data/alignments/s1/pbbv7s.align',\n",
       " 'data/alignments/s1/pbbv8p.align',\n",
       " 'data/alignments/s1/pbbv9a.align',\n",
       " 'data/alignments/s1/pbib6n.align',\n",
       " 'data/alignments/s1/pbib7s.align',\n",
       " 'data/alignments/s1/pbib8p.align',\n",
       " 'data/alignments/s1/pbib9a.align',\n",
       " 'data/alignments/s1/pbii1s.align',\n",
       " 'data/alignments/s1/pbii2p.align',\n",
       " 'data/alignments/s1/pbii3a.align',\n",
       " 'data/alignments/s1/pbiizn.align',\n",
       " 'data/alignments/s1/pbio4n.align',\n",
       " 'data/alignments/s1/pbio5s.align',\n",
       " 'data/alignments/s1/pbio6p.align',\n",
       " 'data/alignments/s1/pbio7a.align',\n",
       " 'data/alignments/s1/pbiu8n.align',\n",
       " 'data/alignments/s1/pbiu9s.align',\n",
       " 'data/alignments/s1/pbiv1a.align',\n",
       " 'data/alignments/s1/pbivzp.align',\n",
       " 'data/alignments/s1/pbwc8n.align',\n",
       " 'data/alignments/s1/pbwc9s.align',\n",
       " 'data/alignments/s1/pbwd1a.align',\n",
       " 'data/alignments/s1/pbwdzp.align',\n",
       " 'data/alignments/s1/pbwj2n.align',\n",
       " 'data/alignments/s1/pbwj3s.align',\n",
       " 'data/alignments/s1/pbwj4p.align',\n",
       " 'data/alignments/s1/pbwj5a.align',\n",
       " 'data/alignments/s1/pbwp6n.align',\n",
       " 'data/alignments/s1/pbwp7s.align',\n",
       " 'data/alignments/s1/pbwp8p.align',\n",
       " 'data/alignments/s1/pbwp9a.align',\n",
       " 'data/alignments/s1/pbwx1s.align',\n",
       " 'data/alignments/s1/pbwx2p.align',\n",
       " 'data/alignments/s1/pbwx3a.align',\n",
       " 'data/alignments/s1/pbwxzn.align',\n",
       " 'data/alignments/s1/pgad8n.align',\n",
       " 'data/alignments/s1/pgad9s.align',\n",
       " 'data/alignments/s1/pgae1a.align',\n",
       " 'data/alignments/s1/pgaezp.align',\n",
       " 'data/alignments/s1/pgak2n.align',\n",
       " 'data/alignments/s1/pgak3s.align',\n",
       " 'data/alignments/s1/pgak4p.align',\n",
       " 'data/alignments/s1/pgak5a.align',\n",
       " 'data/alignments/s1/pgaq6n.align',\n",
       " 'data/alignments/s1/pgaq7s.align',\n",
       " 'data/alignments/s1/pgaq8p.align',\n",
       " 'data/alignments/s1/pgaq9a.align',\n",
       " 'data/alignments/s1/pgay1s.align',\n",
       " 'data/alignments/s1/pgay2p.align',\n",
       " 'data/alignments/s1/pgay3a.align',\n",
       " 'data/alignments/s1/pgayzn.align',\n",
       " 'data/alignments/s1/pgbe2n.align',\n",
       " 'data/alignments/s1/pgbe3s.align',\n",
       " 'data/alignments/s1/pgbe4p.align',\n",
       " 'data/alignments/s1/pgbe5a.align',\n",
       " 'data/alignments/s1/pgbk6n.align',\n",
       " 'data/alignments/s1/pgbk7s.align',\n",
       " 'data/alignments/s1/pgbk8p.align',\n",
       " 'data/alignments/s1/pgbk9a.align',\n",
       " 'data/alignments/s1/pgbr1s.align',\n",
       " 'data/alignments/s1/pgbr2p.align',\n",
       " 'data/alignments/s1/pgbr3a.align',\n",
       " 'data/alignments/s1/pgbrzn.align',\n",
       " 'data/alignments/s1/pgby4n.align',\n",
       " 'data/alignments/s1/pgby5s.align',\n",
       " 'data/alignments/s1/pgby6p.align',\n",
       " 'data/alignments/s1/pgby7a.align',\n",
       " 'data/alignments/s1/pgid4n.align',\n",
       " 'data/alignments/s1/pgid5s.align',\n",
       " 'data/alignments/s1/pgid6p.align',\n",
       " 'data/alignments/s1/pgid7a.align',\n",
       " 'data/alignments/s1/pgij8n.align',\n",
       " 'data/alignments/s1/pgij9s.align',\n",
       " 'data/alignments/s1/pgik1a.align',\n",
       " 'data/alignments/s1/pgikzp.align',\n",
       " 'data/alignments/s1/pgiq2n.align',\n",
       " 'data/alignments/s1/pgiq3s.align',\n",
       " 'data/alignments/s1/pgiq4p.align',\n",
       " 'data/alignments/s1/pgiq5a.align',\n",
       " 'data/alignments/s1/pgix6n.align',\n",
       " 'data/alignments/s1/pgix7s.align',\n",
       " 'data/alignments/s1/pgix8p.align',\n",
       " 'data/alignments/s1/pgix9a.align',\n",
       " 'data/alignments/s1/pgwe6n.align',\n",
       " 'data/alignments/s1/pgwe7s.align',\n",
       " 'data/alignments/s1/pgwe8p.align',\n",
       " 'data/alignments/s1/pgwe9a.align',\n",
       " 'data/alignments/s1/pgwl1s.align',\n",
       " 'data/alignments/s1/pgwl2p.align',\n",
       " 'data/alignments/s1/pgwl3a.align',\n",
       " 'data/alignments/s1/pgwlzn.align',\n",
       " 'data/alignments/s1/pgwr4n.align',\n",
       " 'data/alignments/s1/pgwr5s.align',\n",
       " 'data/alignments/s1/pgwr6p.align',\n",
       " 'data/alignments/s1/pgwr7a.align',\n",
       " 'data/alignments/s1/pgwy8n.align',\n",
       " 'data/alignments/s1/pgwy9s.align',\n",
       " 'data/alignments/s1/pgwz1a.align',\n",
       " 'data/alignments/s1/pgwzzp.align',\n",
       " 'data/alignments/s1/prac6n.align',\n",
       " 'data/alignments/s1/prac7s.align',\n",
       " 'data/alignments/s1/prac8p.align',\n",
       " 'data/alignments/s1/prac9a.align',\n",
       " 'data/alignments/s1/praj1s.align',\n",
       " 'data/alignments/s1/praj2p.align',\n",
       " 'data/alignments/s1/praj3a.align',\n",
       " 'data/alignments/s1/prajzn.align',\n",
       " 'data/alignments/s1/prap4n.align',\n",
       " 'data/alignments/s1/prap5s.align',\n",
       " 'data/alignments/s1/prap6p.align',\n",
       " 'data/alignments/s1/prap7a.align',\n",
       " 'data/alignments/s1/prav8n.align',\n",
       " 'data/alignments/s1/prav9s.align',\n",
       " 'data/alignments/s1/prax1a.align',\n",
       " 'data/alignments/s1/praxzp.align',\n",
       " 'data/alignments/s1/prbd1s.align',\n",
       " 'data/alignments/s1/prbd2p.align',\n",
       " 'data/alignments/s1/prbd3a.align',\n",
       " 'data/alignments/s1/prbdzn.align',\n",
       " 'data/alignments/s1/prbj4n.align',\n",
       " 'data/alignments/s1/prbj5s.align',\n",
       " 'data/alignments/s1/prbj6p.align',\n",
       " 'data/alignments/s1/prbj7a.align',\n",
       " 'data/alignments/s1/prbp8n.align',\n",
       " 'data/alignments/s1/prbp9s.align',\n",
       " 'data/alignments/s1/prbq1a.align',\n",
       " 'data/alignments/s1/prbqzp.align',\n",
       " 'data/alignments/s1/prbx2n.align',\n",
       " 'data/alignments/s1/prbx3s.align',\n",
       " 'data/alignments/s1/prbx4p.align',\n",
       " 'data/alignments/s1/prbx5a.align',\n",
       " 'data/alignments/s1/pric2n.align',\n",
       " 'data/alignments/s1/pric3s.align',\n",
       " 'data/alignments/s1/pric4p.align',\n",
       " 'data/alignments/s1/pric5a.align',\n",
       " 'data/alignments/s1/prii6n.align',\n",
       " 'data/alignments/s1/prii7s.align',\n",
       " 'data/alignments/s1/prii8p.align',\n",
       " 'data/alignments/s1/prii9a.align',\n",
       " 'data/alignments/s1/prip1s.align',\n",
       " 'data/alignments/s1/prip2p.align',\n",
       " 'data/alignments/s1/prip3a.align',\n",
       " 'data/alignments/s1/pripzn.align',\n",
       " 'data/alignments/s1/priv4n.align',\n",
       " 'data/alignments/s1/priv5s.align',\n",
       " 'data/alignments/s1/priv6p.align',\n",
       " 'data/alignments/s1/priv7a.align',\n",
       " 'data/alignments/s1/prwd4n.align',\n",
       " 'data/alignments/s1/prwd5s.align',\n",
       " 'data/alignments/s1/prwd6p.align',\n",
       " 'data/alignments/s1/prwd7a.align',\n",
       " 'data/alignments/s1/prwj8n.align',\n",
       " 'data/alignments/s1/prwj9s.align',\n",
       " 'data/alignments/s1/prwk1a.align',\n",
       " 'data/alignments/s1/prwkzp.align',\n",
       " 'data/alignments/s1/prwq2n.align',\n",
       " 'data/alignments/s1/prwq3s.align',\n",
       " 'data/alignments/s1/prwq4p.align',\n",
       " 'data/alignments/s1/prwq5a.align',\n",
       " 'data/alignments/s1/prwx6n.align',\n",
       " 'data/alignments/s1/prwx7s.align',\n",
       " 'data/alignments/s1/prwx8p.align',\n",
       " 'data/alignments/s1/prwx9a.align',\n",
       " 'data/alignments/s1/pwad2n.align',\n",
       " 'data/alignments/s1/pwad3s.align',\n",
       " 'data/alignments/s1/pwad4p.align',\n",
       " 'data/alignments/s1/pwad5a.align',\n",
       " 'data/alignments/s1/pwaj6n.align',\n",
       " 'data/alignments/s1/pwaj7s.align',\n",
       " 'data/alignments/s1/pwaj8p.align',\n",
       " 'data/alignments/s1/pwaj9a.align',\n",
       " 'data/alignments/s1/pwaq1s.align',\n",
       " 'data/alignments/s1/pwaq2p.align',\n",
       " 'data/alignments/s1/pwaq3a.align',\n",
       " 'data/alignments/s1/pwaqzn.align',\n",
       " 'data/alignments/s1/pwax4n.align',\n",
       " 'data/alignments/s1/pwax5s.align',\n",
       " 'data/alignments/s1/pwax6p.align',\n",
       " 'data/alignments/s1/pwax7a.align',\n",
       " 'data/alignments/s1/pwbd6n.align',\n",
       " 'data/alignments/s1/pwbd7s.align',\n",
       " 'data/alignments/s1/pwbd8p.align',\n",
       " 'data/alignments/s1/pwbd9a.align',\n",
       " 'data/alignments/s1/pwbk1s.align',\n",
       " 'data/alignments/s1/pwbk2p.align',\n",
       " 'data/alignments/s1/pwbk3a.align',\n",
       " 'data/alignments/s1/pwbkzn.align',\n",
       " 'data/alignments/s1/pwbq4n.align',\n",
       " 'data/alignments/s1/pwbq5s.align',\n",
       " 'data/alignments/s1/pwbq6p.align',\n",
       " 'data/alignments/s1/pwbq7a.align',\n",
       " 'data/alignments/s1/pwbx8n.align',\n",
       " 'data/alignments/s1/pwbx9s.align',\n",
       " 'data/alignments/s1/pwby1a.align',\n",
       " 'data/alignments/s1/pwbyzp.align',\n",
       " 'data/alignments/s1/pwic8n.align',\n",
       " 'data/alignments/s1/pwic9s.align',\n",
       " 'data/alignments/s1/pwid1a.align',\n",
       " 'data/alignments/s1/pwidzp.align',\n",
       " 'data/alignments/s1/pwij2n.align',\n",
       " 'data/alignments/s1/pwij3s.align',\n",
       " 'data/alignments/s1/pwij4p.align',\n",
       " 'data/alignments/s1/pwij5a.align',\n",
       " 'data/alignments/s1/pwip6n.align',\n",
       " 'data/alignments/s1/pwip7s.align',\n",
       " 'data/alignments/s1/pwip8p.align',\n",
       " 'data/alignments/s1/pwip9a.align',\n",
       " 'data/alignments/s1/pwix1s.align',\n",
       " 'data/alignments/s1/pwix2p.align',\n",
       " 'data/alignments/s1/pwix3a.align',\n",
       " 'data/alignments/s1/pwixzn.align',\n",
       " 'data/alignments/s1/pwwe1s.align',\n",
       " 'data/alignments/s1/pwwe2p.align',\n",
       " 'data/alignments/s1/pwwe3a.align',\n",
       " 'data/alignments/s1/pwwezn.align',\n",
       " 'data/alignments/s1/pwwk4n.align',\n",
       " 'data/alignments/s1/pwwk5s.align',\n",
       " 'data/alignments/s1/pwwk6p.align',\n",
       " 'data/alignments/s1/pwwk7a.align',\n",
       " 'data/alignments/s1/pwwq8n.align',\n",
       " 'data/alignments/s1/pwwq9s.align',\n",
       " 'data/alignments/s1/pwwr1a.align',\n",
       " 'data/alignments/s1/pwwrzp.align',\n",
       " 'data/alignments/s1/pwwy2n.align',\n",
       " 'data/alignments/s1/pwwy3s.align',\n",
       " 'data/alignments/s1/pwwy4p.align',\n",
       " 'data/alignments/s1/pwwy5a.align',\n",
       " 'data/alignments/s1/sbaa4n.align',\n",
       " 'data/alignments/s1/sbaa5s.align',\n",
       " 'data/alignments/s1/sbaa6p.align',\n",
       " 'data/alignments/s1/sbaa7a.align',\n",
       " 'data/alignments/s1/sbag8n.align',\n",
       " 'data/alignments/s1/sbag9s.align',\n",
       " 'data/alignments/s1/sbah1a.align',\n",
       " 'data/alignments/s1/sbahzp.align',\n",
       " 'data/alignments/s1/sban2n.align',\n",
       " 'data/alignments/s1/sban3s.align',\n",
       " 'data/alignments/s1/sban4p.align',\n",
       " 'data/alignments/s1/sban5a.align',\n",
       " 'data/alignments/s1/sbat6n.align',\n",
       " 'data/alignments/s1/sbat7s.align',\n",
       " 'data/alignments/s1/sbat8p.align',\n",
       " 'data/alignments/s1/sbat9a.align',\n",
       " 'data/alignments/s1/sbba8n.align',\n",
       " 'data/alignments/s1/sbba9s.align',\n",
       " 'data/alignments/s1/sbbb1a.align',\n",
       " 'data/alignments/s1/sbbbzp.align',\n",
       " 'data/alignments/s1/sbbh2n.align',\n",
       " 'data/alignments/s1/sbbh3s.align',\n",
       " 'data/alignments/s1/sbbh4p.align',\n",
       " 'data/alignments/s1/sbbh5a.align',\n",
       " 'data/alignments/s1/sbbn6n.align',\n",
       " 'data/alignments/s1/sbbn7s.align',\n",
       " 'data/alignments/s1/sbbn8p.align',\n",
       " 'data/alignments/s1/sbbn9a.align',\n",
       " 'data/alignments/s1/sbbu1s.align',\n",
       " 'data/alignments/s1/sbbu2p.align',\n",
       " 'data/alignments/s1/sbbu3a.align',\n",
       " 'data/alignments/s1/sbbuzn.align',\n",
       " 'data/alignments/s1/sbia1s.align',\n",
       " 'data/alignments/s1/sbia2p.align',\n",
       " 'data/alignments/s1/sbia3a.align',\n",
       " 'data/alignments/s1/sbiazn.align',\n",
       " 'data/alignments/s1/sbig4n.align',\n",
       " 'data/alignments/s1/sbig5s.align',\n",
       " 'data/alignments/s1/sbig6p.align',\n",
       " 'data/alignments/s1/sbig7a.align',\n",
       " 'data/alignments/s1/sbim8n.align',\n",
       " 'data/alignments/s1/sbim9s.align',\n",
       " 'data/alignments/s1/sbin1a.align',\n",
       " 'data/alignments/s1/sbinzp.align',\n",
       " 'data/alignments/s1/sbit2n.align',\n",
       " 'data/alignments/s1/sbit3s.align',\n",
       " 'data/alignments/s1/sbit4p.align',\n",
       " 'data/alignments/s1/sbit5a.align',\n",
       " 'data/alignments/s1/sbwb2n.align',\n",
       " 'data/alignments/s1/sbwb3s.align',\n",
       " 'data/alignments/s1/sbwb4p.align',\n",
       " 'data/alignments/s1/sbwb5a.align',\n",
       " 'data/alignments/s1/sbwh6n.align',\n",
       " 'data/alignments/s1/sbwh7s.align',\n",
       " 'data/alignments/s1/sbwh8p.align',\n",
       " 'data/alignments/s1/sbwh9a.align',\n",
       " 'data/alignments/s1/sbwo1s.align',\n",
       " 'data/alignments/s1/sbwo2p.align',\n",
       " 'data/alignments/s1/sbwo3a.align',\n",
       " 'data/alignments/s1/sbwozn.align',\n",
       " 'data/alignments/s1/sbwu4n.align',\n",
       " 'data/alignments/s1/sbwu5s.align',\n",
       " 'data/alignments/s1/sbwu6p.align',\n",
       " 'data/alignments/s1/sbwu7a.align',\n",
       " 'data/alignments/s1/sgac2n.align',\n",
       " 'data/alignments/s1/sgac3s.align',\n",
       " 'data/alignments/s1/sgac4p.align',\n",
       " 'data/alignments/s1/sgac5a.align',\n",
       " 'data/alignments/s1/sgai6n.align',\n",
       " 'data/alignments/s1/sgai7s.align',\n",
       " 'data/alignments/s1/sgai8p.align',\n",
       " 'data/alignments/s1/sgai9a.align',\n",
       " 'data/alignments/s1/sgap1s.align',\n",
       " 'data/alignments/s1/sgap2p.align',\n",
       " 'data/alignments/s1/sgap3a.align',\n",
       " 'data/alignments/s1/sgapzn.align',\n",
       " 'data/alignments/s1/sgav4n.align',\n",
       " 'data/alignments/s1/sgav5s.align',\n",
       " 'data/alignments/s1/sgav6p.align',\n",
       " 'data/alignments/s1/sgav7a.align',\n",
       " 'data/alignments/s1/sgbc6n.align',\n",
       " 'data/alignments/s1/sgbc7s.align',\n",
       " 'data/alignments/s1/sgbc8p.align',\n",
       " 'data/alignments/s1/sgbc9a.align',\n",
       " 'data/alignments/s1/sgbj1s.align',\n",
       " 'data/alignments/s1/sgbj2p.align',\n",
       " 'data/alignments/s1/sgbj3a.align',\n",
       " 'data/alignments/s1/sgbjzn.align',\n",
       " 'data/alignments/s1/sgbp4n.align',\n",
       " 'data/alignments/s1/sgbp5s.align',\n",
       " 'data/alignments/s1/sgbp6p.align',\n",
       " 'data/alignments/s1/sgbp7a.align',\n",
       " 'data/alignments/s1/sgbv8n.align',\n",
       " 'data/alignments/s1/sgbv9s.align',\n",
       " 'data/alignments/s1/sgbx1a.align',\n",
       " 'data/alignments/s1/sgbxzp.align',\n",
       " 'data/alignments/s1/sgib8n.align',\n",
       " 'data/alignments/s1/sgib9s.align',\n",
       " 'data/alignments/s1/sgic1a.align',\n",
       " 'data/alignments/s1/sgiczp.align',\n",
       " 'data/alignments/s1/sgii2n.align',\n",
       " 'data/alignments/s1/sgii3s.align',\n",
       " 'data/alignments/s1/sgii4p.align',\n",
       " 'data/alignments/s1/sgii5a.align',\n",
       " 'data/alignments/s1/sgio6n.align',\n",
       " 'data/alignments/s1/sgio7s.align',\n",
       " 'data/alignments/s1/sgio8p.align',\n",
       " 'data/alignments/s1/sgio9a.align',\n",
       " 'data/alignments/s1/sgiv1s.align',\n",
       " 'data/alignments/s1/sgiv2p.align',\n",
       " 'data/alignments/s1/sgiv3a.align',\n",
       " 'data/alignments/s1/sgivzn.align',\n",
       " 'data/alignments/s1/sgwd1s.align',\n",
       " 'data/alignments/s1/sgwd2p.align',\n",
       " 'data/alignments/s1/sgwd3a.align',\n",
       " 'data/alignments/s1/sgwdzn.align',\n",
       " 'data/alignments/s1/sgwj4n.align',\n",
       " 'data/alignments/s1/sgwj5s.align',\n",
       " 'data/alignments/s1/sgwj6p.align',\n",
       " 'data/alignments/s1/sgwj7a.align',\n",
       " 'data/alignments/s1/sgwp8n.align',\n",
       " 'data/alignments/s1/sgwp9s.align',\n",
       " 'data/alignments/s1/sgwq1a.align',\n",
       " 'data/alignments/s1/sgwqzp.align',\n",
       " 'data/alignments/s1/sgwx2n.align',\n",
       " 'data/alignments/s1/sgwx3s.align',\n",
       " 'data/alignments/s1/sgwx4p.align',\n",
       " 'data/alignments/s1/sgwx5a.align',\n",
       " 'data/alignments/s1/srab1s.align',\n",
       " 'data/alignments/s1/srab2p.align',\n",
       " 'data/alignments/s1/srab3a.align',\n",
       " 'data/alignments/s1/srabzn.align',\n",
       " 'data/alignments/s1/srah4n.align',\n",
       " 'data/alignments/s1/srah5s.align',\n",
       " 'data/alignments/s1/srah6p.align',\n",
       " 'data/alignments/s1/srah7a.align',\n",
       " 'data/alignments/s1/sran8n.align',\n",
       " 'data/alignments/s1/sran9s.align',\n",
       " 'data/alignments/s1/srao1a.align',\n",
       " 'data/alignments/s1/sraozp.align',\n",
       " 'data/alignments/s1/srau2n.align',\n",
       " 'data/alignments/s1/srau3s.align',\n",
       " 'data/alignments/s1/srau4p.align',\n",
       " 'data/alignments/s1/srau5a.align',\n",
       " 'data/alignments/s1/srbb4n.align',\n",
       " 'data/alignments/s1/srbb5s.align',\n",
       " 'data/alignments/s1/srbb6p.align',\n",
       " 'data/alignments/s1/srbb7a.align',\n",
       " 'data/alignments/s1/srbh8n.align',\n",
       " 'data/alignments/s1/srbh9s.align',\n",
       " 'data/alignments/s1/srbi1a.align',\n",
       " 'data/alignments/s1/srbizp.align',\n",
       " 'data/alignments/s1/srbo2n.align',\n",
       " 'data/alignments/s1/srbo3s.align',\n",
       " 'data/alignments/s1/srbo4p.align',\n",
       " 'data/alignments/s1/srbo5a.align',\n",
       " 'data/alignments/s1/srbu6n.align',\n",
       " 'data/alignments/s1/srbu7s.align',\n",
       " 'data/alignments/s1/srbu8p.align',\n",
       " 'data/alignments/s1/srbu9a.align',\n",
       " 'data/alignments/s1/sria6n.align',\n",
       " 'data/alignments/s1/sria7s.align',\n",
       " 'data/alignments/s1/sria8p.align',\n",
       " 'data/alignments/s1/sria9a.align',\n",
       " 'data/alignments/s1/srih1s.align',\n",
       " 'data/alignments/s1/srih2p.align',\n",
       " 'data/alignments/s1/srih3a.align',\n",
       " 'data/alignments/s1/srihzn.align',\n",
       " 'data/alignments/s1/srin4n.align',\n",
       " 'data/alignments/s1/srin5s.align',\n",
       " 'data/alignments/s1/srin6p.align',\n",
       " 'data/alignments/s1/srin7a.align',\n",
       " 'data/alignments/s1/srit8n.align',\n",
       " 'data/alignments/s1/srit9s.align',\n",
       " 'data/alignments/s1/sriu1a.align',\n",
       " 'data/alignments/s1/sriuzp.align',\n",
       " 'data/alignments/s1/srwb8n.align',\n",
       " 'data/alignments/s1/srwb9s.align',\n",
       " 'data/alignments/s1/srwc1a.align',\n",
       " 'data/alignments/s1/srwczp.align',\n",
       " 'data/alignments/s1/srwi2n.align',\n",
       " 'data/alignments/s1/srwi3s.align',\n",
       " 'data/alignments/s1/srwi4p.align',\n",
       " 'data/alignments/s1/srwi5a.align',\n",
       " 'data/alignments/s1/srwo6n.align',\n",
       " 'data/alignments/s1/srwo7s.align',\n",
       " 'data/alignments/s1/srwo8p.align',\n",
       " 'data/alignments/s1/srwo9a.align',\n",
       " 'data/alignments/s1/srwv1s.align',\n",
       " 'data/alignments/s1/srwv2p.align',\n",
       " 'data/alignments/s1/srwv3a.align',\n",
       " 'data/alignments/s1/srwvzn.align',\n",
       " 'data/alignments/s1/swab6n.align',\n",
       " 'data/alignments/s1/swab7s.align',\n",
       " 'data/alignments/s1/swab8p.align',\n",
       " 'data/alignments/s1/swab9a.align',\n",
       " 'data/alignments/s1/swai1s.align',\n",
       " 'data/alignments/s1/swai2p.align',\n",
       " 'data/alignments/s1/swai3a.align',\n",
       " 'data/alignments/s1/swaizn.align',\n",
       " 'data/alignments/s1/swao4n.align',\n",
       " 'data/alignments/s1/swao5s.align',\n",
       " 'data/alignments/s1/swao6p.align',\n",
       " 'data/alignments/s1/swao7a.align',\n",
       " 'data/alignments/s1/swau8n.align',\n",
       " 'data/alignments/s1/swau9s.align',\n",
       " 'data/alignments/s1/swav1a.align',\n",
       " 'data/alignments/s1/swavzp.align',\n",
       " 'data/alignments/s1/swbc1s.align',\n",
       " 'data/alignments/s1/swbc2p.align',\n",
       " 'data/alignments/s1/swbc3a.align',\n",
       " 'data/alignments/s1/swbczn.align',\n",
       " 'data/alignments/s1/swbi4n.align',\n",
       " 'data/alignments/s1/swbi5s.align',\n",
       " 'data/alignments/s1/swbi6p.align',\n",
       " 'data/alignments/s1/swbi7a.align',\n",
       " 'data/alignments/s1/swbo8n.align',\n",
       " 'data/alignments/s1/swbo9s.align',\n",
       " 'data/alignments/s1/swbp1a.align',\n",
       " 'data/alignments/s1/swbpzp.align',\n",
       " 'data/alignments/s1/swbv2n.align',\n",
       " 'data/alignments/s1/swbv3s.align',\n",
       " 'data/alignments/s1/swbv4p.align',\n",
       " 'data/alignments/s1/swbv5a.align',\n",
       " 'data/alignments/s1/swib2n.align',\n",
       " 'data/alignments/s1/swib3s.align',\n",
       " 'data/alignments/s1/swib4p.align',\n",
       " 'data/alignments/s1/swib5a.align',\n",
       " 'data/alignments/s1/swih6n.align',\n",
       " 'data/alignments/s1/swih7s.align',\n",
       " 'data/alignments/s1/swih8p.align',\n",
       " 'data/alignments/s1/swih9a.align',\n",
       " 'data/alignments/s1/swio1s.align',\n",
       " 'data/alignments/s1/swio2p.align',\n",
       " 'data/alignments/s1/swio3a.align',\n",
       " 'data/alignments/s1/swiozn.align',\n",
       " 'data/alignments/s1/swiu4n.align',\n",
       " 'data/alignments/s1/swiu5s.align',\n",
       " 'data/alignments/s1/swiu6p.align',\n",
       " 'data/alignments/s1/swiu7a.align',\n",
       " 'data/alignments/s1/swwc4n.align',\n",
       " 'data/alignments/s1/swwc5s.align',\n",
       " 'data/alignments/s1/swwc6p.align',\n",
       " 'data/alignments/s1/swwc7a.align',\n",
       " 'data/alignments/s1/swwi8n.align',\n",
       " 'data/alignments/s1/swwi9s.align',\n",
       " 'data/alignments/s1/swwj1a.align',\n",
       " 'data/alignments/s1/swwjzp.align',\n",
       " 'data/alignments/s1/swwp2n.align',\n",
       " 'data/alignments/s1/swwp3s.align',\n",
       " 'data/alignments/s1/swwp4p.align',\n",
       " 'data/alignments/s1/swwp5a.align',\n",
       " 'data/alignments/s1/swwv6n.align',\n",
       " ...]"
      ]
     },
     "execution_count": 7,
     "metadata": {},
     "output_type": "execute_result"
    }
   ],
   "source": [
    "url= 'https://drive.google.com/uc?id=1YlvpDLix3S-U8fd-gqRwPcWXAXm8JwjL'\n",
    "output='data.zip'\n",
    "gdown.download(url, output, quiet=False)  #dowloading\n",
    "gdown.extractall(output)  #extracting"
   ]
  },
  {
   "cell_type": "code",
   "execution_count": 12,
   "metadata": {
    "executionInfo": {
     "elapsed": 245,
     "status": "ok",
     "timestamp": 1734197875684,
     "user": {
      "displayName": "Mohamed Zaali",
      "userId": "07924585633667612782"
     },
     "user_tz": -60
    },
    "id": "tedIqGZJcbcT"
   },
   "outputs": [],
   "source": [
    "#Function for loading and preprocessing video\n",
    "def load_video(path: str) -> List[float]:\n",
    "  cap=cv2.VideoCapture(path) #creating a cv2 video capture instance\n",
    "  frames=[]\n",
    "  for _ in range(int(cap.get(cv2.CAP_PROP_FRAME_COUNT))): #loops through each frame and stores it in the frames array\n",
    "    ret, frame=cap.read()\n",
    "    frame=tf.image.rgb_to_grayscale(frame) #we convert the data from rgb to grayscale to have less data to preprocess\n",
    "    frames.append(frame[190:236,80:220,:]) #isolating the mouth region statically(we can use DLIB to do it dynamically but we'll pass on that for now)\n",
    "  cap.release()\n",
    "\n",
    "  mean=tf.math.reduce_mean(frames)\n",
    "  std=tf.math.reduce_std(tf.cast(frames, tf.float32))\n",
    "  return tf.cast((frames-mean), dtype=tf.float32)/std #we standardize our image features"
   ]
  },
  {
   "cell_type": "code",
   "execution_count": 13,
   "metadata": {
    "executionInfo": {
     "elapsed": 410,
     "status": "ok",
     "timestamp": 1734197882985,
     "user": {
      "displayName": "Mohamed Zaali",
      "userId": "07924585633667612782"
     },
     "user_tz": -60
    },
    "id": "QZylOWH5e6fF"
   },
   "outputs": [],
   "source": [
    "#defining a vocab(it's every single character we can expect to encounter within our annotations)\n",
    "vocab = [x for x in \"abcdefghijklmnopqrstuvwxyz'?!123456789 \"]"
   ]
  },
  {
   "cell_type": "code",
   "execution_count": 14,
   "metadata": {
    "colab": {
     "base_uri": "https://localhost:8080/"
    },
    "executionInfo": {
     "elapsed": 374,
     "status": "ok",
     "timestamp": 1734197884607,
     "user": {
      "displayName": "Mohamed Zaali",
      "userId": "07924585633667612782"
     },
     "user_tz": -60
    },
    "id": "vFpbRskIjyXp",
    "outputId": "4c74e218-3c9f-46a6-8cea-6fc03690b5c5"
   },
   "outputs": [
    {
     "name": "stdout",
     "output_type": "stream",
     "text": [
      "The vocabulary is: ['', 'a', 'b', 'c', 'd', 'e', 'f', 'g', 'h', 'i', 'j', 'k', 'l', 'm', 'n', 'o', 'p', 'q', 'r', 's', 't', 'u', 'v', 'w', 'x', 'y', 'z', \"'\", '?', '!', '1', '2', '3', '4', '5', '6', '7', '8', '9', ' ']\n",
      "(size: 40)\n"
     ]
    }
   ],
   "source": [
    "#converting from characters to numbers and from numbers to characters\n",
    "char_to_num = tf.keras.layers.StringLookup(vocabulary=vocab, oov_token=\"\")\n",
    "num_to_char = tf.keras.layers.StringLookup(vocabulary=char_to_num.get_vocabulary(), oov_token=\"\", invert=True)\n",
    "\n",
    "print(f\"The vocabulary is: {char_to_num.get_vocabulary()}\\n\"\n",
    "      f\"(size: {char_to_num.vocabulary_size()})\")"
   ]
  },
  {
   "cell_type": "code",
   "execution_count": 11,
   "metadata": {
    "executionInfo": {
     "elapsed": 245,
     "status": "ok",
     "timestamp": 1734197909539,
     "user": {
      "displayName": "Mohamed Zaali",
      "userId": "07924585633667612782"
     },
     "user_tz": -60
    },
    "id": "p_ypxqK-OFpx"
   },
   "outputs": [],
   "source": [
    "#Function for loading and preprocessing alignements\n",
    "def load_alignments(path:str) -> List[str]:\n",
    "    with open(path,'r') as f:\n",
    "        lines=f.readlines()\n",
    "    tokens=[]\n",
    "    for line in lines:\n",
    "        line = line.split()\n",
    "        if line[2]!='sil':  # Exclude silence markers\n",
    "            tokens = [*tokens,' ',line[2]]\n",
    "    return char_to_num(tf.reshape(tf.strings.unicode_split(tokens,input_encoding='UTF-8'), (-1)))"
   ]
  },
  {
   "cell_type": "code",
   "execution_count": null,
   "metadata": {},
   "outputs": [],
   "source": [
    "# Fonction pour charger et prétraiter les alignements\n",
    "def load_alignments(path:str) -> List[str]:\n",
    "    with open(path,'r') as f:\n",
    "        lines=f.readlines()\n",
    "    tokens=[]\n",
    "    for line in lines:\n",
    "        line = line.split()\n",
    "        if line[2]!='sil':  # Exclure les marqueurs de silence\n",
    "            tokens = [*tokens,' ',line[2]]\n",
    "    return char_to_num(tf.reshape(tf.strings.unicode_split(tokens,input_encoding='UTF-8'), (-1)))"
   ]
  },
  {
   "cell_type": "code",
   "execution_count": 12,
   "metadata": {
    "executionInfo": {
     "elapsed": 383,
     "status": "ok",
     "timestamp": 1734197929271,
     "user": {
      "displayName": "Mohamed Zaali",
      "userId": "07924585633667612782"
     },
     "user_tz": -60
    },
    "id": "5OYSVDCwmiX8"
   },
   "outputs": [],
   "source": [
    "'''\n",
    "#loading both the videos and alignments simultaneously for linux\n",
    "def load_data(path: str): #takes the path to a video and splits it to have a video path and alignment path\n",
    "  path=bytes.decode(path.numpy())\n",
    "  print(f\"Generated path: {path}\")\n",
    "  file_name=path.split('/')[-1].split('.')[0] #splits the path string using slashes and takes the last element without the ectention\n",
    "  video_path=os.path.join('data', 's1', f'{file_name}.mpg') #constructs a path data/s1/...\n",
    "  alignments_path=os.path.join('data','alignments', 's1', f'{file_name}.align')\n",
    "  frames=load_video(video_path)\n",
    "  alignments=load_alignments(alignments_path)\n",
    "  return frames, alignments\n",
    "'''"
   ]
  },
  {
   "cell_type": "code",
   "execution_count": null,
   "metadata": {
    "id": "u94wW_mYOFpy"
   },
   "outputs": [],
   "source": [
    "#loading both the videos and alignments simultaneously (for windows)\n",
    "def load_data(path: str): #takes the path to a video and splits it to have a video path and alignment path\n",
    "  path=bytes.decode(path.numpy())\n",
    "  print(f\"Generated path: {path}\")\n",
    "  file_name=path.split('\\\\')[-1].split('.')[0] #splits the path string using slashes and takes the last element without the ectention\n",
    "  video_path=os.path.join('data', 's1', f'{file_name}.mpg') #constructs a path data\\s1\\...\n",
    "  alignments_path=os.path.join('data','alignments', 's1', f'{file_name}.align')\n",
    "  print(f\"Generated video path: {video_path}\")\n",
    "  print(f\"Generated alignments path: {alignments_path}\")\n",
    "  frames=load_video(video_path)\n",
    "  alignments=load_alignments(alignments_path)\n",
    "  return frames, alignments"
   ]
  },
  {
   "cell_type": "code",
   "execution_count": null,
   "metadata": {},
   "outputs": [],
   "source": [
    "# Chargement simultané des vidéos et des alignements (pour Windows)\n",
    "def load_data(path: str): # prend le chemin d'une vidéo et le divise pour obtenir un chemin vidéo et un chemin d'alignement\n",
    "  path=bytes.decode(path.numpy())\n",
    "  print(f\"Chemin généré : {path}\")\n",
    "  file_name=path.split('\\\\')[-1].split('.')[0] # divise la chaîne de chemin en utilisant des barres obliques et prend le dernier élément sans l'extension\n",
    "  video_path=os.path.join('data', 's1', f'{file_name}.mpg') # construit un chemin data\\s1\\...\n",
    "  alignments_path=os.path.join('data','alignments', 's1', f'{file_name}.align')\n",
    "  frames=load_video(video_path)\n",
    "  alignments=load_alignments(alignments_path)\n",
    "  return frames, alignments"
   ]
  },
  {
   "cell_type": "markdown",
   "metadata": {
    "id": "4JMSWpUq34Mi"
   },
   "source": [
    "We test our load_data"
   ]
  },
  {
   "cell_type": "code",
   "execution_count": 13,
   "metadata": {
    "executionInfo": {
     "elapsed": 282,
     "status": "ok",
     "timestamp": 1734197954457,
     "user": {
      "displayName": "Mohamed Zaali",
      "userId": "07924585633667612782"
     },
     "user_tz": -60
    },
    "id": "XJ3Rk1CP3t4S"
   },
   "outputs": [],
   "source": [
    "test_path=\"./data/s1/bbal6n.mpg\""
   ]
  },
  {
   "cell_type": "code",
   "execution_count": 15,
   "metadata": {
    "colab": {
     "base_uri": "https://localhost:8080/",
     "height": 35
    },
    "executionInfo": {
     "elapsed": 234,
     "status": "ok",
     "timestamp": 1734197965788,
     "user": {
      "displayName": "Mohamed Zaali",
      "userId": "07924585633667612782"
     },
     "user_tz": -60
    },
    "id": "82BClBDd4lW8",
    "outputId": "ac21f727-4097-4472-c404-824b2b9668f6"
   },
   "outputs": [
    {
     "data": {
      "application/vnd.google.colaboratory.intrinsic+json": {
       "type": "string"
      },
      "text/plain": [
       "'bbal6n'"
      ]
     },
     "execution_count": 15,
     "metadata": {},
     "output_type": "execute_result"
    }
   ],
   "source": [
    "tf.convert_to_tensor(test_path).numpy().decode('utf-8').split('/')[-1].split('.')[0]"
   ]
  },
  {
   "cell_type": "code",
   "execution_count": 16,
   "metadata": {
    "colab": {
     "base_uri": "https://localhost:8080/"
    },
    "executionInfo": {
     "elapsed": 509,
     "status": "ok",
     "timestamp": 1734197970155,
     "user": {
      "displayName": "Mohamed Zaali",
      "userId": "07924585633667612782"
     },
     "user_tz": -60
    },
    "id": "atQWyAeh3_pw",
    "outputId": "4d25a262-2a16-49d3-d8fc-fcbb75b33c7b"
   },
   "outputs": [
    {
     "name": "stdout",
     "output_type": "stream",
     "text": [
      "Generated path: ./data/s1/bbal6n.mpg\n",
      "Generated video path: data/s1/bbal6n.mpg\n",
      "Generated alignments path: data/alignments/s1/bbal6n.align\n",
      "{'frames': <tf.Tensor: shape=(75, 46, 140, 1), dtype=float32, numpy=\n",
      "array([[[[ 1.4603736 ],\n",
      "         [ 1.4603736 ],\n",
      "         [ 1.4209042 ],\n",
      "         ...,\n",
      "         [ 0.15787823],\n",
      "         [ 0.19734779],\n",
      "         [ 0.07893912]],\n",
      "\n",
      "        [[ 1.4603736 ],\n",
      "         [ 1.4603736 ],\n",
      "         [ 1.4209042 ],\n",
      "         ...,\n",
      "         [ 0.15787823],\n",
      "         [ 0.07893912],\n",
      "         [ 0.03946956]],\n",
      "\n",
      "        [[ 1.4209042 ],\n",
      "         [ 1.4209042 ],\n",
      "         [ 1.3814346 ],\n",
      "         ...,\n",
      "         [ 0.07893912],\n",
      "         [ 0.07893912],\n",
      "         [ 0.07893912]],\n",
      "\n",
      "        ...,\n",
      "\n",
      "        [[ 0.9472694 ],\n",
      "         [ 0.9472694 ],\n",
      "         [ 0.9472694 ],\n",
      "         ...,\n",
      "         [ 9.946329  ],\n",
      "         [ 9.86739   ],\n",
      "         [ 9.86739   ]],\n",
      "\n",
      "        [[ 0.9472694 ],\n",
      "         [ 0.9472694 ],\n",
      "         [ 0.9472694 ],\n",
      "         ...,\n",
      "         [ 9.906859  ],\n",
      "         [ 9.86739   ],\n",
      "         [ 9.86739   ]],\n",
      "\n",
      "        [[ 0.9472694 ],\n",
      "         [ 0.9472694 ],\n",
      "         [ 0.9472694 ],\n",
      "         ...,\n",
      "         [ 9.906859  ],\n",
      "         [ 9.86739   ],\n",
      "         [ 9.86739   ]]],\n",
      "\n",
      "\n",
      "       [[[ 1.4209042 ],\n",
      "         [ 1.4209042 ],\n",
      "         [ 1.341965  ],\n",
      "         ...,\n",
      "         [ 0.19734779],\n",
      "         [ 0.11840867],\n",
      "         [ 0.15787823]],\n",
      "\n",
      "        [[ 1.4209042 ],\n",
      "         [ 1.4209042 ],\n",
      "         [ 1.341965  ],\n",
      "         ...,\n",
      "         [ 0.23681735],\n",
      "         [ 0.        ],\n",
      "         [ 0.03946956]],\n",
      "\n",
      "        [[ 1.341965  ],\n",
      "         [ 1.341965  ],\n",
      "         [ 1.3024955 ],\n",
      "         ...,\n",
      "         [ 0.11840867],\n",
      "         [ 0.15787823],\n",
      "         [ 0.15787823]],\n",
      "\n",
      "        ...,\n",
      "\n",
      "        [[ 0.9472694 ],\n",
      "         [ 0.9472694 ],\n",
      "         [ 0.9472694 ],\n",
      "         ...,\n",
      "         [10.025268  ],\n",
      "         [ 9.946329  ],\n",
      "         [ 9.946329  ]],\n",
      "\n",
      "        [[ 0.90779984],\n",
      "         [ 0.90779984],\n",
      "         [ 0.90779984],\n",
      "         ...,\n",
      "         [ 9.946329  ],\n",
      "         [ 9.906859  ],\n",
      "         [ 9.906859  ]],\n",
      "\n",
      "        [[ 0.90779984],\n",
      "         [ 0.90779984],\n",
      "         [ 0.90779984],\n",
      "         ...,\n",
      "         [ 9.946329  ],\n",
      "         [ 9.906859  ],\n",
      "         [ 9.906859  ]]],\n",
      "\n",
      "\n",
      "       [[[ 1.4209042 ],\n",
      "         [ 1.4209042 ],\n",
      "         [ 1.341965  ],\n",
      "         ...,\n",
      "         [ 0.15787823],\n",
      "         [ 0.07893912],\n",
      "         [ 0.15787823]],\n",
      "\n",
      "        [[ 1.4209042 ],\n",
      "         [ 1.4209042 ],\n",
      "         [ 1.341965  ],\n",
      "         ...,\n",
      "         [ 0.2762869 ],\n",
      "         [ 0.03946956],\n",
      "         [ 0.15787823]],\n",
      "\n",
      "        [[ 1.341965  ],\n",
      "         [ 1.3024955 ],\n",
      "         [ 1.341965  ],\n",
      "         ...,\n",
      "         [ 0.11840867],\n",
      "         [ 0.11840867],\n",
      "         [ 0.11840867]],\n",
      "\n",
      "        ...,\n",
      "\n",
      "        [[ 0.986739  ],\n",
      "         [ 0.986739  ],\n",
      "         [ 0.9472694 ],\n",
      "         ...,\n",
      "         [ 9.985798  ],\n",
      "         [ 9.985798  ],\n",
      "         [ 9.985798  ]],\n",
      "\n",
      "        [[ 0.9472694 ],\n",
      "         [ 0.9472694 ],\n",
      "         [ 0.90779984],\n",
      "         ...,\n",
      "         [ 9.946329  ],\n",
      "         [ 9.906859  ],\n",
      "         [ 9.906859  ]],\n",
      "\n",
      "        [[ 0.9472694 ],\n",
      "         [ 0.9472694 ],\n",
      "         [ 0.90779984],\n",
      "         ...,\n",
      "         [ 9.946329  ],\n",
      "         [ 9.906859  ],\n",
      "         [ 9.906859  ]]],\n",
      "\n",
      "\n",
      "       ...,\n",
      "\n",
      "\n",
      "       [[[ 1.3814346 ],\n",
      "         [ 1.3814346 ],\n",
      "         [ 1.4209042 ],\n",
      "         ...,\n",
      "         [ 0.19734779],\n",
      "         [ 0.15787823],\n",
      "         [ 0.07893912]],\n",
      "\n",
      "        [[ 1.3814346 ],\n",
      "         [ 1.3814346 ],\n",
      "         [ 1.4209042 ],\n",
      "         ...,\n",
      "         [ 0.11840867],\n",
      "         [ 0.11840867],\n",
      "         [ 0.07893912]],\n",
      "\n",
      "        [[ 1.3024955 ],\n",
      "         [ 1.3024955 ],\n",
      "         [ 1.3024955 ],\n",
      "         ...,\n",
      "         [ 0.11840867],\n",
      "         [ 0.11840867],\n",
      "         [ 0.15787823]],\n",
      "\n",
      "        ...,\n",
      "\n",
      "        [[ 0.986739  ],\n",
      "         [ 0.9472694 ],\n",
      "         [ 0.9472694 ],\n",
      "         ...,\n",
      "         [ 9.906859  ],\n",
      "         [ 9.86739   ],\n",
      "         [ 9.86739   ]],\n",
      "\n",
      "        [[ 0.9472694 ],\n",
      "         [ 0.9472694 ],\n",
      "         [ 0.9472694 ],\n",
      "         ...,\n",
      "         [ 9.906859  ],\n",
      "         [ 9.86739   ],\n",
      "         [ 9.86739   ]],\n",
      "\n",
      "        [[ 0.9472694 ],\n",
      "         [ 0.9472694 ],\n",
      "         [ 0.9472694 ],\n",
      "         ...,\n",
      "         [ 9.906859  ],\n",
      "         [ 9.86739   ],\n",
      "         [ 9.86739   ]]],\n",
      "\n",
      "\n",
      "       [[[ 1.341965  ],\n",
      "         [ 1.341965  ],\n",
      "         [ 1.3814346 ],\n",
      "         ...,\n",
      "         [ 0.15787823],\n",
      "         [ 0.07893912],\n",
      "         [ 0.        ]],\n",
      "\n",
      "        [[ 1.341965  ],\n",
      "         [ 1.341965  ],\n",
      "         [ 1.3814346 ],\n",
      "         ...,\n",
      "         [ 0.15787823],\n",
      "         [ 0.11840867],\n",
      "         [ 0.03946956]],\n",
      "\n",
      "        [[ 1.3024955 ],\n",
      "         [ 1.3024955 ],\n",
      "         [ 1.3024955 ],\n",
      "         ...,\n",
      "         [ 0.11840867],\n",
      "         [ 0.07893912],\n",
      "         [ 0.11840867]],\n",
      "\n",
      "        ...,\n",
      "\n",
      "        [[ 0.9472694 ],\n",
      "         [ 0.90779984],\n",
      "         [ 0.90779984],\n",
      "         ...,\n",
      "         [ 9.86739   ],\n",
      "         [ 9.82792   ],\n",
      "         [ 9.82792   ]],\n",
      "\n",
      "        [[ 0.90779984],\n",
      "         [ 0.90779984],\n",
      "         [ 0.90779984],\n",
      "         ...,\n",
      "         [ 9.86739   ],\n",
      "         [ 9.82792   ],\n",
      "         [ 9.82792   ]],\n",
      "\n",
      "        [[ 0.90779984],\n",
      "         [ 0.90779984],\n",
      "         [ 0.90779984],\n",
      "         ...,\n",
      "         [ 9.86739   ],\n",
      "         [ 9.82792   ],\n",
      "         [ 9.82792   ]]],\n",
      "\n",
      "\n",
      "       [[[ 1.3024955 ],\n",
      "         [ 1.3024955 ],\n",
      "         [ 1.3814346 ],\n",
      "         ...,\n",
      "         [ 0.07893912],\n",
      "         [ 0.07893912],\n",
      "         [ 0.15787823]],\n",
      "\n",
      "        [[ 1.3024955 ],\n",
      "         [ 1.3024955 ],\n",
      "         [ 1.3814346 ],\n",
      "         ...,\n",
      "         [ 0.        ],\n",
      "         [ 0.07893912],\n",
      "         [ 0.23681735]],\n",
      "\n",
      "        [[ 1.341965  ],\n",
      "         [ 1.341965  ],\n",
      "         [ 1.341965  ],\n",
      "         ...,\n",
      "         [ 0.07893912],\n",
      "         [ 0.07893912],\n",
      "         [ 0.07893912]],\n",
      "\n",
      "        ...,\n",
      "\n",
      "        [[ 0.90779984],\n",
      "         [ 0.90779984],\n",
      "         [ 0.90779984],\n",
      "         ...,\n",
      "         [ 9.906859  ],\n",
      "         [ 9.86739   ],\n",
      "         [ 9.86739   ]],\n",
      "\n",
      "        [[ 0.90779984],\n",
      "         [ 0.90779984],\n",
      "         [ 0.90779984],\n",
      "         ...,\n",
      "         [ 9.946329  ],\n",
      "         [ 9.86739   ],\n",
      "         [ 9.86739   ]],\n",
      "\n",
      "        [[ 0.90779984],\n",
      "         [ 0.90779984],\n",
      "         [ 0.90779984],\n",
      "         ...,\n",
      "         [ 9.946329  ],\n",
      "         [ 9.86739   ],\n",
      "         [ 9.86739   ]]]], dtype=float32)>, 'alignments': <tf.Tensor: shape=(22,), dtype=int64, numpy=\n",
      "array([39,  2,  9, 14, 39,  2, 12, 21,  5, 39,  1, 20, 39, 12, 39, 19,  9,\n",
      "       24, 39, 14, 15, 23])>}\n"
     ]
    }
   ],
   "source": [
    "frames, alignments=load_data(tf.convert_to_tensor(test_path)) #converts a raw string to a tensorflow tensor and passes it to the load_data function\n",
    "print({\"frames\" : frames,\n",
    "        \"alignments\" : alignments})"
   ]
  },
  {
   "cell_type": "markdown",
   "metadata": {
    "id": "AlfQBE85OFp4"
   },
   "source": [
    "the shape of the frame is (length of frames, height of frames in pixels , width of frames in pixels, number of channels)\n",
    "we had 1 channel because we converted the frame from rgb to grayscale"
   ]
  },
  {
   "cell_type": "code",
   "execution_count": 17,
   "metadata": {
    "colab": {
     "base_uri": "https://localhost:8080/",
     "height": 318
    },
    "executionInfo": {
     "elapsed": 528,
     "status": "ok",
     "timestamp": 1734197994740,
     "user": {
      "displayName": "Mohamed Zaali",
      "userId": "07924585633667612782"
     },
     "user_tz": -60
    },
    "id": "fT4V6X6u5U3e",
    "outputId": "7cdf43ea-7322-4d2e-e85a-da88025298bc"
   },
   "outputs": [
    {
     "data": {
      "image/png": "[encoded data removed]",
      "text/plain": [
       "<Figure size 1000x1000 with 1 Axes>"
      ]
     },
     "metadata": {},
     "output_type": "display_data"
    }
   ],
   "source": [
    "plt.figure(figsize=(10,10))\n",
    "plt.imshow(frames[0]) #plotting a frame (if we stack all the frames together it should technically show the mouth moving)\n",
    "plt.show()"
   ]
  },
  {
   "cell_type": "code",
   "execution_count": 18,
   "metadata": {
    "colab": {
     "base_uri": "https://localhost:8080/"
    },
    "executionInfo": {
     "elapsed": 496,
     "status": "ok",
     "timestamp": 1734197998389,
     "user": {
      "displayName": "Mohamed Zaali",
      "userId": "07924585633667612782"
     },
     "user_tz": -60
    },
    "id": "Pl6IClnY6leP",
    "outputId": "19aee860-4f05-4625-fe24-758def0af1f8"
   },
   "outputs": [
    {
     "name": "stdout",
     "output_type": "stream",
     "text": [
      "alignments before preprocessing :b' bin blue at l six now'\n",
      "alignments after preprocessing :[39  2  9 14 39  2 12 21  5 39  1 20 39 12 39 19  9 24 39 14 15 23]\n"
     ]
    }
   ],
   "source": [
    "print(f\"alignments before preprocessing :{tf.strings.reduce_join([bytes.decode(x) for x in num_to_char(alignments.numpy()).numpy()]).numpy()}\")\n",
    "print(f\"alignments after preprocessing :{alignments.numpy()}\")"
   ]
  },
  {
   "cell_type": "code",
   "execution_count": 19,
   "metadata": {
    "executionInfo": {
     "elapsed": 422,
     "status": "ok",
     "timestamp": 1734198006681,
     "user": {
      "displayName": "Mohamed Zaali",
      "userId": "07924585633667612782"
     },
     "user_tz": -60
    },
    "id": "7aKZkDUE5q1Q"
   },
   "outputs": [],
   "source": [
    "#wrapping evrything in a tf.py_function\n",
    "def mappable_function(path:str) -> List[str]:\n",
    "  result=tf.py_function(load_data, [path], [tf.float32, tf.int64])\n",
    "  return result"
   ]
  },
  {
   "cell_type": "markdown",
   "metadata": {
    "id": "p6s3RZEQMDsd"
   },
   "source": [
    "# CREATING DATA PIPELINE"
   ]
  },
  {
   "cell_type": "markdown",
   "metadata": {
    "id": "jPCBn8whMxoF"
   },
   "source": [
    "Our data pipeline will help train our deep learning model"
   ]
  },
  {
   "cell_type": "code",
   "execution_count": 45,
   "metadata": {
    "executionInfo": {
     "elapsed": 216,
     "status": "ok",
     "timestamp": 1734199258955,
     "user": {
      "displayName": "Mohamed Zaali",
      "userId": "07924585633667612782"
     },
     "user_tz": -60
    },
    "id": "4dsWZqKTMMSM"
   },
   "outputs": [],
   "source": [
    "data=tf.data.Dataset.list_files('./data/s1/*.mpg') #creating a dataset\n",
    "data=data.shuffle(500, reshuffle_each_iteration=False)  #shuffling it\n",
    "data=data.map(mappable_function)  #before doing this, getting the data will just return a path, now it will return the actual data\n",
    "#each input data has variable shapes or variable lengths.\n",
    "#Padding ensures that all elements in a batch have the same shape by adding padding where necessary.\n",
    "#the next line ensures there is 75 frames and 40 alignments, otherwise it pads them, also, we get 2 videos and 2 sets of alignments\n",
    "data=data.padded_batch(2,padded_shapes=([75,None,None,None],[40]))\n",
    "data=data.prefetch(tf.data.AUTOTUNE)  #we ensure to optimise our data pipeline, we preload as our ML model is stil training\n",
    "\n",
    "train= data.take(450)\n",
    "test=data.skip(450)\n"
   ]
  },
  {
   "cell_type": "code",
   "execution_count": 21,
   "metadata": {
    "colab": {
     "base_uri": "https://localhost:8080/"
    },
    "executionInfo": {
     "elapsed": 1824,
     "status": "ok",
     "timestamp": 1734198021957,
     "user": {
      "displayName": "Mohamed Zaali",
      "userId": "07924585633667612782"
     },
     "user_tz": -60
    },
    "id": "w8nv9qe0hsW0",
    "outputId": "dd772c76-5299-4b74-9898-eb5bf89cd3ae"
   },
   "outputs": [
    {
     "name": "stdout",
     "output_type": "stream",
     "text": [
      "Generated path: ./data/s1/sgbc6n.mpg\n",
      "Generated video path: data/s1/sgbc6n.mpg\n",
      "Generated alignments path: data/alignments/s1/sgbc6n.align\n",
      "Generated path: ./data/s1/bril8n.mpg\n",
      "Generated video path: data/s1/bril8n.mpg\n",
      "Generated alignments path: data/alignments/s1/bril8n.align\n",
      "Generated path: ./data/s1/swwv8p.mpg\n",
      "Generated video path: data/s1/swwv8p.mpg\n",
      "Generated alignments path: data/alignments/s1/swwv8p.align\n"
     ]
    }
   ],
   "source": [
    "frames, alignments= data.as_numpy_iterator().next()"
   ]
  },
  {
   "cell_type": "code",
   "execution_count": 22,
   "metadata": {
    "colab": {
     "base_uri": "https://localhost:8080/"
    },
    "executionInfo": {
     "elapsed": 381,
     "status": "ok",
     "timestamp": 1734198024359,
     "user": {
      "displayName": "Mohamed Zaali",
      "userId": "07924585633667612782"
     },
     "user_tz": -60
    },
    "id": "aVijeKEpO8F_",
    "outputId": "b69d68f4-5776-4f1b-b579-5688cbe5d645"
   },
   "outputs": [
    {
     "data": {
      "text/plain": [
       "array([[39, 19,  5, 20, 39,  7, 18,  5,  5, 14, 39,  2, 25, 39,  3, 39,\n",
       "        19,  9, 24, 39, 14, 15, 23,  0,  0,  0,  0,  0,  0,  0,  0,  0,\n",
       "         0,  0,  0,  0,  0,  0,  0,  0],\n",
       "       [39,  2,  9, 14, 39, 18,  5,  4, 39,  9, 14, 39, 12, 39,  5,  9,\n",
       "         7,  8, 20, 39, 14, 15, 23,  0,  0,  0,  0,  0,  0,  0,  0,  0,\n",
       "         0,  0,  0,  0,  0,  0,  0,  0]])"
      ]
     },
     "execution_count": 22,
     "metadata": {},
     "output_type": "execute_result"
    }
   ],
   "source": [
    "alignments #we can see trailing zeros at the end of the alignments, thats padding"
   ]
  },
  {
   "cell_type": "code",
   "execution_count": 23,
   "metadata": {
    "executionInfo": {
     "elapsed": 366,
     "status": "ok",
     "timestamp": 1734198026939,
     "user": {
      "displayName": "Mohamed Zaali",
      "userId": "07924585633667612782"
     },
     "user_tz": -60
    },
    "id": "2pXk1BjnQsX0"
   },
   "outputs": [],
   "source": [
    "test= data.as_numpy_iterator() #this just iterates through our data"
   ]
  },
  {
   "cell_type": "code",
   "execution_count": 24,
   "metadata": {
    "colab": {
     "base_uri": "https://localhost:8080/"
    },
    "collapsed": true,
    "executionInfo": {
     "elapsed": 821,
     "status": "ok",
     "timestamp": 1734198029108,
     "user": {
      "displayName": "Mohamed Zaali",
      "userId": "07924585633667612782"
     },
     "user_tz": -60
    },
    "id": "AV6IKXzcQ0Rh",
    "outputId": "a7737f06-71c9-4a2a-bead-07de0935b8b1"
   },
   "outputs": [
    {
     "name": "stdout",
     "output_type": "stream",
     "text": [
      "Generated path: ./data/s1/pwby1a.mpg\n",
      "Generated video path: data/s1/pwby1a.mpg\n",
      "Generated alignments path: data/alignments/s1/pwby1a.align\n",
      "Generated path: ./data/s1/prbj4n.mpg\n",
      "Generated video path: data/s1/prbj4n.mpg\n",
      "Generated alignments path: data/alignments/s1/prbj4n.align\n"
     ]
    },
    {
     "data": {
      "text/plain": [
       "array([[[[[1.2991993 ],\n",
       "          [1.2991993 ],\n",
       "          [1.2991993 ],\n",
       "          ...,\n",
       "          [9.017972  ],\n",
       "          [9.438301  ],\n",
       "          [9.514725  ]],\n",
       "\n",
       "         [[1.2991993 ],\n",
       "          [1.2991993 ],\n",
       "          [1.2991993 ],\n",
       "          ...,\n",
       "          [8.788701  ],\n",
       "          [9.438301  ],\n",
       "          [9.438301  ]],\n",
       "\n",
       "         [[1.2991993 ],\n",
       "          [1.2991993 ],\n",
       "          [1.2991993 ],\n",
       "          ...,\n",
       "          [9.438301  ],\n",
       "          [0.03821174],\n",
       "          [0.03821174]],\n",
       "\n",
       "         ...,\n",
       "\n",
       "         [[0.95529366],\n",
       "          [0.95529366],\n",
       "          [0.8788701 ],\n",
       "          ...,\n",
       "          [9.667572  ],\n",
       "          [9.705784  ],\n",
       "          [9.705784  ]],\n",
       "\n",
       "         [[0.95529366],\n",
       "          [0.95529366],\n",
       "          [0.8788701 ],\n",
       "          ...,\n",
       "          [9.62936   ],\n",
       "          [9.667572  ],\n",
       "          [9.705784  ]],\n",
       "\n",
       "         [[0.95529366],\n",
       "          [0.95529366],\n",
       "          [0.8788701 ],\n",
       "          ...,\n",
       "          [9.62936   ],\n",
       "          [9.667572  ],\n",
       "          [9.667572  ]]],\n",
       "\n",
       "\n",
       "        [[[1.2991993 ],\n",
       "          [1.2991993 ],\n",
       "          [1.2609876 ],\n",
       "          ...,\n",
       "          [8.75049   ],\n",
       "          [9.514725  ],\n",
       "          [9.514725  ]],\n",
       "\n",
       "         [[1.2991993 ],\n",
       "          [1.2991993 ],\n",
       "          [1.2609876 ],\n",
       "          ...,\n",
       "          [8.674067  ],\n",
       "          [9.400089  ],\n",
       "          [9.514725  ]],\n",
       "\n",
       "         [[1.2609876 ],\n",
       "          [1.2609876 ],\n",
       "          [1.2991993 ],\n",
       "          ...,\n",
       "          [9.400089  ],\n",
       "          [0.        ],\n",
       "          [0.        ]],\n",
       "\n",
       "         ...,\n",
       "\n",
       "         [[0.95529366],\n",
       "          [0.95529366],\n",
       "          [0.8788701 ],\n",
       "          ...,\n",
       "          [9.705784  ],\n",
       "          [9.667572  ],\n",
       "          [9.705784  ]],\n",
       "\n",
       "         [[0.95529366],\n",
       "          [0.95529366],\n",
       "          [0.8788701 ],\n",
       "          ...,\n",
       "          [9.62936   ],\n",
       "          [9.667572  ],\n",
       "          [9.743995  ]],\n",
       "\n",
       "         [[0.95529366],\n",
       "          [0.95529366],\n",
       "          [0.8788701 ],\n",
       "          ...,\n",
       "          [9.62936   ],\n",
       "          [9.667572  ],\n",
       "          [9.705784  ]]],\n",
       "\n",
       "\n",
       "        [[[1.2991993 ],\n",
       "          [1.2991993 ],\n",
       "          [1.2609876 ],\n",
       "          ...,\n",
       "          [8.826913  ],\n",
       "          [9.705784  ],\n",
       "          [9.62936   ]],\n",
       "\n",
       "         [[1.2991993 ],\n",
       "          [1.2991993 ],\n",
       "          [1.2609876 ],\n",
       "          ...,\n",
       "          [8.712278  ],\n",
       "          [9.514725  ],\n",
       "          [9.62936   ]],\n",
       "\n",
       "         [[1.337411  ],\n",
       "          [1.337411  ],\n",
       "          [1.337411  ],\n",
       "          ...,\n",
       "          [9.361877  ],\n",
       "          [0.        ],\n",
       "          [0.        ]],\n",
       "\n",
       "         ...,\n",
       "\n",
       "         [[0.99350536],\n",
       "          [0.99350536],\n",
       "          [0.95529366],\n",
       "          ...,\n",
       "          [9.743995  ],\n",
       "          [9.743995  ],\n",
       "          [9.705784  ]],\n",
       "\n",
       "         [[0.95529366],\n",
       "          [0.95529366],\n",
       "          [0.9170819 ],\n",
       "          ...,\n",
       "          [9.62936   ],\n",
       "          [9.667572  ],\n",
       "          [9.743995  ]],\n",
       "\n",
       "         [[0.95529366],\n",
       "          [0.95529366],\n",
       "          [0.9170819 ],\n",
       "          ...,\n",
       "          [9.591148  ],\n",
       "          [9.667572  ],\n",
       "          [9.705784  ]]],\n",
       "\n",
       "\n",
       "        ...,\n",
       "\n",
       "\n",
       "        [[[1.337411  ],\n",
       "          [1.337411  ],\n",
       "          [1.2609876 ],\n",
       "          ...,\n",
       "          [0.45854095],\n",
       "          [9.514725  ],\n",
       "          [9.247242  ]],\n",
       "\n",
       "         [[1.2991993 ],\n",
       "          [1.2991993 ],\n",
       "          [1.2227758 ],\n",
       "          ...,\n",
       "          [9.743995  ],\n",
       "          [9.094396  ],\n",
       "          [9.247242  ]],\n",
       "\n",
       "         [[1.2991993 ],\n",
       "          [1.2991993 ],\n",
       "          [1.2991993 ],\n",
       "          ...,\n",
       "          [9.170819  ],\n",
       "          [9.62936   ],\n",
       "          [9.667572  ]],\n",
       "\n",
       "         ...,\n",
       "\n",
       "         [[0.8788701 ],\n",
       "          [0.8788701 ],\n",
       "          [0.8788701 ],\n",
       "          ...,\n",
       "          [0.03821174],\n",
       "          [0.        ],\n",
       "          [0.        ]],\n",
       "\n",
       "         [[0.8788701 ],\n",
       "          [0.8788701 ],\n",
       "          [0.8788701 ],\n",
       "          ...,\n",
       "          [9.705784  ],\n",
       "          [0.        ],\n",
       "          [9.743995  ]],\n",
       "\n",
       "         [[0.8788701 ],\n",
       "          [0.8788701 ],\n",
       "          [0.8788701 ],\n",
       "          ...,\n",
       "          [9.667572  ],\n",
       "          [9.743995  ],\n",
       "          [9.705784  ]]],\n",
       "\n",
       "\n",
       "        [[[1.2991993 ],\n",
       "          [1.2991993 ],\n",
       "          [1.2991993 ],\n",
       "          ...,\n",
       "          [0.4203292 ],\n",
       "          [9.476513  ],\n",
       "          [9.323666  ]],\n",
       "\n",
       "         [[1.2991993 ],\n",
       "          [1.2991993 ],\n",
       "          [1.2991993 ],\n",
       "          ...,\n",
       "          [9.361877  ],\n",
       "          [9.247242  ],\n",
       "          [9.323666  ]],\n",
       "\n",
       "         [[1.2991993 ],\n",
       "          [1.2991993 ],\n",
       "          [1.2991993 ],\n",
       "          ...,\n",
       "          [8.97976   ],\n",
       "          [9.667572  ],\n",
       "          [9.705784  ]],\n",
       "\n",
       "         ...,\n",
       "\n",
       "         [[0.8788701 ],\n",
       "          [0.8788701 ],\n",
       "          [0.8788701 ],\n",
       "          ...,\n",
       "          [0.07642349],\n",
       "          [0.        ],\n",
       "          [0.03821174]],\n",
       "\n",
       "         [[0.8788701 ],\n",
       "          [0.8788701 ],\n",
       "          [0.8788701 ],\n",
       "          ...,\n",
       "          [9.705784  ],\n",
       "          [9.743995  ],\n",
       "          [9.743995  ]],\n",
       "\n",
       "         [[0.8788701 ],\n",
       "          [0.8788701 ],\n",
       "          [0.8788701 ],\n",
       "          ...,\n",
       "          [9.667572  ],\n",
       "          [9.705784  ],\n",
       "          [9.705784  ]]],\n",
       "\n",
       "\n",
       "        [[[1.337411  ],\n",
       "          [1.337411  ],\n",
       "          [1.337411  ],\n",
       "          ...,\n",
       "          [0.22927047],\n",
       "          [9.361877  ],\n",
       "          [9.400089  ]],\n",
       "\n",
       "         [[1.337411  ],\n",
       "          [1.337411  ],\n",
       "          [1.337411  ],\n",
       "          ...,\n",
       "          [9.247242  ],\n",
       "          [9.209031  ],\n",
       "          [9.400089  ]],\n",
       "\n",
       "         [[1.2991993 ],\n",
       "          [1.2991993 ],\n",
       "          [1.2991993 ],\n",
       "          ...,\n",
       "          [8.941548  ],\n",
       "          [9.62936   ],\n",
       "          [9.705784  ]],\n",
       "\n",
       "         ...,\n",
       "\n",
       "         [[0.9170819 ],\n",
       "          [0.9170819 ],\n",
       "          [0.9170819 ],\n",
       "          ...,\n",
       "          [0.07642349],\n",
       "          [9.743995  ],\n",
       "          [9.743995  ]],\n",
       "\n",
       "         [[0.8788701 ],\n",
       "          [0.8788701 ],\n",
       "          [0.8788701 ],\n",
       "          ...,\n",
       "          [9.705784  ],\n",
       "          [9.667572  ],\n",
       "          [9.705784  ]],\n",
       "\n",
       "         [[0.8788701 ],\n",
       "          [0.8788701 ],\n",
       "          [0.8788701 ],\n",
       "          ...,\n",
       "          [9.667572  ],\n",
       "          [9.667572  ],\n",
       "          [9.705784  ]]]],\n",
       "\n",
       "\n",
       "\n",
       "       [[[[1.452607  ],\n",
       "          [1.452607  ],\n",
       "          [1.4908335 ],\n",
       "          ...,\n",
       "          [9.709531  ],\n",
       "          [0.26758552],\n",
       "          [0.26758552]],\n",
       "\n",
       "         [[1.452607  ],\n",
       "          [1.452607  ],\n",
       "          [1.4908335 ],\n",
       "          ...,\n",
       "          [9.633079  ],\n",
       "          [0.26758552],\n",
       "          [0.458718  ]],\n",
       "\n",
       "         [[1.452607  ],\n",
       "          [1.452607  ],\n",
       "          [1.4908335 ],\n",
       "          ...,\n",
       "          [0.1146795 ],\n",
       "          [0.26758552],\n",
       "          [0.26758552]],\n",
       "\n",
       "         ...,\n",
       "\n",
       "         [[0.9556625 ],\n",
       "          [0.9556625 ],\n",
       "          [0.9556625 ],\n",
       "          ...,\n",
       "          [0.0382265 ],\n",
       "          [0.        ],\n",
       "          [0.        ]],\n",
       "\n",
       "         [[0.9556625 ],\n",
       "          [0.9556625 ],\n",
       "          [0.9556625 ],\n",
       "          ...,\n",
       "          [9.747758  ],\n",
       "          [9.747758  ],\n",
       "          [9.747758  ]],\n",
       "\n",
       "         [[0.9556625 ],\n",
       "          [0.9556625 ],\n",
       "          [0.9556625 ],\n",
       "          ...,\n",
       "          [9.747758  ],\n",
       "          [9.747758  ],\n",
       "          [9.747758  ]]],\n",
       "\n",
       "\n",
       "        [[[1.4908335 ],\n",
       "          [1.4908335 ],\n",
       "          [1.4908335 ],\n",
       "          ...,\n",
       "          [0.        ],\n",
       "          [0.34403852],\n",
       "          [0.34403852]],\n",
       "\n",
       "         [[1.4908335 ],\n",
       "          [1.4908335 ],\n",
       "          [1.4908335 ],\n",
       "          ...,\n",
       "          [9.747758  ],\n",
       "          [0.42049152],\n",
       "          [0.49694452]],\n",
       "\n",
       "         [[1.4143806 ],\n",
       "          [1.4143806 ],\n",
       "          [1.4143806 ],\n",
       "          ...,\n",
       "          [0.1911325 ],\n",
       "          [0.229359  ],\n",
       "          [0.229359  ]],\n",
       "\n",
       "         ...,\n",
       "\n",
       "         [[0.99388903],\n",
       "          [0.99388903],\n",
       "          [0.99388903],\n",
       "          ...,\n",
       "          [0.0382265 ],\n",
       "          [0.        ],\n",
       "          [9.747758  ]],\n",
       "\n",
       "         [[0.99388903],\n",
       "          [0.9556625 ],\n",
       "          [0.9556625 ],\n",
       "          ...,\n",
       "          [0.0382265 ],\n",
       "          [9.747758  ],\n",
       "          [9.747758  ]],\n",
       "\n",
       "         [[0.9556625 ],\n",
       "          [0.9556625 ],\n",
       "          [0.9556625 ],\n",
       "          ...,\n",
       "          [0.0382265 ],\n",
       "          [9.747758  ],\n",
       "          [9.709531  ]]],\n",
       "\n",
       "\n",
       "        [[[1.4143806 ],\n",
       "          [1.4143806 ],\n",
       "          [1.4143806 ],\n",
       "          ...,\n",
       "          [9.747758  ],\n",
       "          [0.26758552],\n",
       "          [0.42049152]],\n",
       "\n",
       "         [[1.4143806 ],\n",
       "          [1.4143806 ],\n",
       "          [1.4143806 ],\n",
       "          ...,\n",
       "          [0.0382265 ],\n",
       "          [0.34403852],\n",
       "          [0.458718  ]],\n",
       "\n",
       "         [[1.3761541 ],\n",
       "          [1.3761541 ],\n",
       "          [1.3761541 ],\n",
       "          ...,\n",
       "          [0.229359  ],\n",
       "          [0.26758552],\n",
       "          [0.26758552]],\n",
       "\n",
       "         ...,\n",
       "\n",
       "         [[0.99388903],\n",
       "          [0.99388903],\n",
       "          [0.99388903],\n",
       "          ...,\n",
       "          [0.076453  ],\n",
       "          [0.0382265 ],\n",
       "          [0.        ]],\n",
       "\n",
       "         [[0.9556625 ],\n",
       "          [0.9556625 ],\n",
       "          [0.9556625 ],\n",
       "          ...,\n",
       "          [0.0382265 ],\n",
       "          [0.        ],\n",
       "          [0.        ]],\n",
       "\n",
       "         [[0.9556625 ],\n",
       "          [0.9556625 ],\n",
       "          [0.9556625 ],\n",
       "          ...,\n",
       "          [0.0382265 ],\n",
       "          [0.        ],\n",
       "          [9.747758  ]]],\n",
       "\n",
       "\n",
       "        ...,\n",
       "\n",
       "\n",
       "        [[[1.52906   ],\n",
       "          [1.52906   ],\n",
       "          [1.452607  ],\n",
       "          ...,\n",
       "          [9.441946  ],\n",
       "          [0.152906  ],\n",
       "          [0.152906  ]],\n",
       "\n",
       "         [[1.52906   ],\n",
       "          [1.52906   ],\n",
       "          [1.452607  ],\n",
       "          ...,\n",
       "          [9.518398  ],\n",
       "          [0.0382265 ],\n",
       "          [0.1146795 ]],\n",
       "\n",
       "         [[1.4908335 ],\n",
       "          [1.4908335 ],\n",
       "          [1.3761541 ],\n",
       "          ...,\n",
       "          [0.076453  ],\n",
       "          [0.229359  ],\n",
       "          [0.229359  ]],\n",
       "\n",
       "         ...,\n",
       "\n",
       "         [[0.99388903],\n",
       "          [0.99388903],\n",
       "          [0.9556625 ],\n",
       "          ...,\n",
       "          [0.0382265 ],\n",
       "          [0.0382265 ],\n",
       "          [0.0382265 ]],\n",
       "\n",
       "         [[0.9556625 ],\n",
       "          [0.9556625 ],\n",
       "          [0.9556625 ],\n",
       "          ...,\n",
       "          [0.        ],\n",
       "          [0.        ],\n",
       "          [0.        ]],\n",
       "\n",
       "         [[0.9556625 ],\n",
       "          [0.9556625 ],\n",
       "          [0.9556625 ],\n",
       "          ...,\n",
       "          [0.        ],\n",
       "          [0.        ],\n",
       "          [9.747758  ]]],\n",
       "\n",
       "\n",
       "        [[[1.4908335 ],\n",
       "          [1.4908335 ],\n",
       "          [1.4908335 ],\n",
       "          ...,\n",
       "          [9.5948515 ],\n",
       "          [0.1911325 ],\n",
       "          [0.1911325 ]],\n",
       "\n",
       "         [[1.4908335 ],\n",
       "          [1.4908335 ],\n",
       "          [1.4908335 ],\n",
       "          ...,\n",
       "          [9.5948515 ],\n",
       "          [0.229359  ],\n",
       "          [0.1146795 ]],\n",
       "\n",
       "         [[1.52906   ],\n",
       "          [1.5672865 ],\n",
       "          [1.4908335 ],\n",
       "          ...,\n",
       "          [0.152906  ],\n",
       "          [0.305812  ],\n",
       "          [0.305812  ]],\n",
       "\n",
       "         ...,\n",
       "\n",
       "         [[0.99388903],\n",
       "          [0.99388903],\n",
       "          [0.9556625 ],\n",
       "          ...,\n",
       "          [0.076453  ],\n",
       "          [0.076453  ],\n",
       "          [0.076453  ]],\n",
       "\n",
       "         [[0.99388903],\n",
       "          [0.9556625 ],\n",
       "          [0.9556625 ],\n",
       "          ...,\n",
       "          [0.0382265 ],\n",
       "          [0.0382265 ],\n",
       "          [0.0382265 ]],\n",
       "\n",
       "         [[0.9556625 ],\n",
       "          [0.9556625 ],\n",
       "          [0.9556625 ],\n",
       "          ...,\n",
       "          [0.0382265 ],\n",
       "          [0.0382265 ],\n",
       "          [0.        ]]],\n",
       "\n",
       "\n",
       "        [[[1.452607  ],\n",
       "          [1.452607  ],\n",
       "          [1.4908335 ],\n",
       "          ...,\n",
       "          [9.633079  ],\n",
       "          [0.1911325 ],\n",
       "          [0.229359  ]],\n",
       "\n",
       "         [[1.452607  ],\n",
       "          [1.452607  ],\n",
       "          [1.4908335 ],\n",
       "          ...,\n",
       "          [9.5948515 ],\n",
       "          [0.229359  ],\n",
       "          [0.1146795 ]],\n",
       "\n",
       "         [[1.52906   ],\n",
       "          [1.52906   ],\n",
       "          [1.52906   ],\n",
       "          ...,\n",
       "          [0.1146795 ],\n",
       "          [0.305812  ],\n",
       "          [0.305812  ]],\n",
       "\n",
       "         ...,\n",
       "\n",
       "         [[0.99388903],\n",
       "          [0.99388903],\n",
       "          [0.99388903],\n",
       "          ...,\n",
       "          [0.076453  ],\n",
       "          [0.0382265 ],\n",
       "          [0.        ]],\n",
       "\n",
       "         [[0.99388903],\n",
       "          [0.9556625 ],\n",
       "          [0.9556625 ],\n",
       "          ...,\n",
       "          [0.0382265 ],\n",
       "          [0.        ],\n",
       "          [0.        ]],\n",
       "\n",
       "         [[0.9556625 ],\n",
       "          [0.9556625 ],\n",
       "          [0.9556625 ],\n",
       "          ...,\n",
       "          [0.        ],\n",
       "          [0.        ],\n",
       "          [9.747758  ]]]]], dtype=float32)"
      ]
     },
     "execution_count": 24,
     "metadata": {},
     "output_type": "execute_result"
    },
    {
     "name": "stdout",
     "output_type": "stream",
     "text": [
      "Generated path: ./data/s1/lgwm9a.mpg\n",
      "Generated video path: data/s1/lgwm9a.mpg\n",
      "Generated alignments path: data/alignments/s1/lgwm9a.align\n"
     ]
    }
   ],
   "source": [
    "val=test.next(); val[0] #val[0] returns our frames"
   ]
  },
  {
   "cell_type": "code",
   "execution_count": 25,
   "metadata": {
    "executionInfo": {
     "elapsed": 363,
     "status": "ok",
     "timestamp": 1734198033294,
     "user": {
      "displayName": "Mohamed Zaali",
      "userId": "07924585633667612782"
     },
     "user_tz": -60
    },
    "id": "GuhnYTa5RFrx"
   },
   "outputs": [],
   "source": [
    "frames = val[0][1]  #grabs the 2nd instance of the video(we have 2 sets of videos inside each batch)\n",
    "frames_uint8 = np.squeeze((frames * 255).astype(np.uint8))# Convert the frames to uint8 with values between 0 and 255 and drop the extra dimension\n",
    "imageio.mimsave('./animation.gif', frames_uint8) # Save the GIF"
   ]
  },
  {
   "cell_type": "markdown",
   "metadata": {
    "id": "OYQ_TIgoOFqA"
   },
   "source": [
    "the gif is what the model is going to learn to decode"
   ]
  },
  {
   "cell_type": "code",
   "execution_count": 26,
   "metadata": {
    "colab": {
     "base_uri": "https://localhost:8080/",
     "height": 227
    },
    "executionInfo": {
     "elapsed": 431,
     "status": "ok",
     "timestamp": 1734198041193,
     "user": {
      "displayName": "Mohamed Zaali",
      "userId": "07924585633667612782"
     },
     "user_tz": -60
    },
    "id": "J1upalLgTN9v",
    "outputId": "a59623ab-08a9-49f8-f419-0a0a0fb648ee"
   },
   "outputs": [
    {
     "data": {
      "image/png": "[encoded data removed]",
      "text/plain": [
       "<Figure size 640x480 with 1 Axes>"
      ]
     },
     "metadata": {},
     "output_type": "display_data"
    }
   ],
   "source": [
    "#1st frame of 1st video in videos\n",
    "plt.imshow(val[0][0][0])\n",
    "plt.show()"
   ]
  },
  {
   "cell_type": "code",
   "execution_count": 27,
   "metadata": {
    "colab": {
     "base_uri": "https://localhost:8080/"
    },
    "executionInfo": {
     "elapsed": 239,
     "status": "ok",
     "timestamp": 1734198045253,
     "user": {
      "displayName": "Mohamed Zaali",
      "userId": "07924585633667612782"
     },
     "user_tz": -60
    },
    "id": "OY8EoV7MT42s",
    "outputId": "1fb22107-d847-443b-cc0f-771ccf061e4c"
   },
   "outputs": [
    {
     "data": {
      "text/plain": [
       "<tf.Tensor: shape=(), dtype=string, numpy=b' place white by y one again'>"
      ]
     },
     "execution_count": 27,
     "metadata": {},
     "output_type": "execute_result"
    }
   ],
   "source": [
    "tf.strings.reduce_join([num_to_char(word) for word in val [1][0]])"
   ]
  },
  {
   "cell_type": "markdown",
   "metadata": {
    "id": "DDaKLCQ2vjt7"
   },
   "source": [
    "# DESIGN DEEP NEURAL NETWORK"
   ]
  },
  {
   "cell_type": "markdown",
   "metadata": {
    "id": "QuA1eytzw1gi"
   },
   "source": [
    "* Conv3D: 3d convolution,typically used for video processing\n",
    "* LSTM: neural network\n",
    "* ModelCheckpoint: allows us to save our model every certain number of epochs\n",
    "* LearningRateScheduler: allows us to start fast and eventually slow down when we get close.\n"
   ]
  },
  {
   "cell_type": "code",
   "execution_count": 6,
   "metadata": {
    "executionInfo": {
     "elapsed": 366,
     "status": "ok",
     "timestamp": 1734198050774,
     "user": {
      "displayName": "Mohamed Zaali",
      "userId": "07924585633667612782"
     },
     "user_tz": -60
    },
    "id": "g2pnLkr8x357"
   },
   "outputs": [],
   "source": [
    "from tensorflow.keras.models import Sequential\n",
    "from tensorflow.keras.layers import Conv3D, LSTM, Dense, Dropout, Bidirectional, MaxPool3D, Activation, Reshape, SpatialDropout3D, BatchNormalization, TimeDistributed, Flatten\n",
    "from tensorflow.keras.optimizers import Adam\n",
    "from tensorflow.keras.callbacks import ModelCheckpoint, LearningRateScheduler"
   ]
  },
  {
   "cell_type": "code",
   "execution_count": null,
   "metadata": {
    "executionInfo": {
     "elapsed": 2577,
     "status": "ok",
     "timestamp": 1734198058873,
     "user": {
      "displayName": "Mohamed Zaali",
      "userId": "07924585633667612782"
     },
     "user_tz": -60
    },
    "id": "4PrXrFHnyV3t"
   },
   "outputs": [],
   "source": [
    "model = Sequential()  # Instantiate a sequential model, which allows stacking layers in a linear fashion.\n",
    "\n",
    "# Add a 3D convolutional layer with 128 filters of size 3x3x3.\n",
    "# The input shape is (75, 46, 140, 1), where 75 is the number of frames, 46 and 140 are the dimensions of each frame, and 1 is the number of channels (grayscale).\n",
    "# 'padding=\"same\"' ensures that the output size is the same as the input size.\n",
    "model.add(Conv3D(128, 3, input_shape=(75, 46, 140, 1), padding='same'))  \n",
    "model.add(Activation('relu'))  # Add a ReLU activation function to introduce non-linearity into the model.\n",
    "model.add(MaxPool3D((1, 2, 2)))  # Apply a max pooling operation to reduce the size of the frames, taking the maximum over 2x2 windows.\n",
    "\n",
    "# Add a second 3D convolutional layer with 256 filters.\n",
    "# This layer learns more complex features from the outputs of the previous layer.\n",
    "model.add(Conv3D(256, 3, padding='same'))  \n",
    "model.add(Activation('relu'))  # ReLU activation function.\n",
    "model.add(MaxPool3D((1, 2, 2)))  # Further reduce the size of the frames.\n",
    "\n",
    "# Add a third 3D convolutional layer with 75 filters.\n",
    "model.add(Conv3D(75, 3, padding='same'))\n",
    "model.add(Activation('relu'))  # ReLU activation function.\n",
    "model.add(MaxPool3D((1, 2, 2)))  # Reduce the size of the frames again.\n",
    "\n",
    "# Use TimeDistributed to flatten the frames while preserving the temporal dimension.\n",
    "# This prepares the data for input into the LSTM network.\n",
    "model.add(TimeDistributed(Flatten()))  # Flatten each frame into a vector.\n",
    "\n",
    "# Add a bidirectional LSTM layer with 128 units.\n",
    "# 'return_sequences=True' allows the layer to return the full sequence of outputs for each frame, which is necessary for subsequent layers.\n",
    "model.add(Bidirectional(LSTM(128, kernel_initializer='Orthogonal', return_sequences=True)))  \n",
    "model.add(Dropout(0.5))  # Add a dropout layer to regularize the model by dropping 50% of the units during training.\n",
    "\n",
    "# Add a second bidirectional LSTM layer.\n",
    "model.add(Bidirectional(LSTM(128, kernel_initializer='Orthogonal', return_sequences=True)))\n",
    "model.add(Dropout(0.5))  # Additional regularization with dropout.\n",
    "\n",
    "# Add a final dense layer that produces the predictions.\n",
    "# The number of units is equal to the size of the vocabulary (char_to_num.vocabulary_size()) + 1 to include a class for the empty character.\n",
    "# The softmax activation function provides probabilities for each class, facilitating the use of argmax to obtain the predicted class.\n",
    "model.add(Dense(char_to_num.vocabulary_size() + 1, kernel_initializer='he_normal', activation='softmax'))  \n",
    "# The output should have the shape (75, 41), where 75 is the number of frames and 41 is the number of classes (characters) in the output."
   ]
  },
  {
   "cell_type": "code",
   "execution_count": 31,
   "metadata": {
    "colab": {
     "base_uri": "https://localhost:8080/"
    },
    "executionInfo": {
     "elapsed": 545,
     "status": "ok",
     "timestamp": 1734198060909,
     "user": {
      "displayName": "Mohamed Zaali",
      "userId": "07924585633667612782"
     },
     "user_tz": -60
    },
    "id": "4I7WRcMB4Qcv",
    "outputId": "cc96bb5b-fc9c-4135-db83-03438a3d08f5"
   },
   "outputs": [
    {
     "name": "stdout",
     "output_type": "stream",
     "text": [
      "Model: \"sequential\"\n",
      "_________________________________________________________________\n",
      " Layer (type)                Output Shape              Param #   \n",
      "=================================================================\n",
      " conv3d (Conv3D)             (None, 75, 46, 140, 128)  3584      \n",
      "                                                                 \n",
      " activation (Activation)     (None, 75, 46, 140, 128)  0         \n",
      "                                                                 \n",
      " max_pooling3d (MaxPooling3D  (None, 75, 23, 70, 128)  0         \n",
      " )                                                               \n",
      "                                                                 \n",
      " conv3d_1 (Conv3D)           (None, 75, 23, 70, 256)   884992    \n",
      "                                                                 \n",
      " activation_1 (Activation)   (None, 75, 23, 70, 256)   0         \n",
      "                                                                 \n",
      " max_pooling3d_1 (MaxPooling  (None, 75, 11, 35, 256)  0         \n",
      " 3D)                                                             \n",
      "                                                                 \n",
      " conv3d_2 (Conv3D)           (None, 75, 11, 35, 75)    518475    \n",
      "                                                                 \n",
      " activation_2 (Activation)   (None, 75, 11, 35, 75)    0         \n",
      "                                                                 \n",
      " max_pooling3d_2 (MaxPooling  (None, 75, 5, 17, 75)    0         \n",
      " 3D)                                                             \n",
      "                                                                 \n",
      " time_distributed (TimeDistr  (None, 75, 6375)         0         \n",
      " ibuted)                                                         \n",
      "                                                                 \n",
      " bidirectional (Bidirectiona  (None, 75, 256)          6660096   \n",
      " l)                                                              \n",
      "                                                                 \n",
      " dropout (Dropout)           (None, 75, 256)           0         \n",
      "                                                                 \n",
      " bidirectional_1 (Bidirectio  (None, 75, 256)          394240    \n",
      " nal)                                                            \n",
      "                                                                 \n",
      " dropout_1 (Dropout)         (None, 75, 256)           0         \n",
      "                                                                 \n",
      " dense (Dense)               (None, 75, 41)            10537     \n",
      "                                                                 \n",
      "=================================================================\n",
      "Total params: 8,471,924\n",
      "Trainable params: 8,471,924\n",
      "Non-trainable params: 0\n",
      "_________________________________________________________________\n"
     ]
    }
   ],
   "source": [
    "model.summary()"
   ]
  },
  {
   "cell_type": "code",
   "execution_count": 32,
   "metadata": {
    "colab": {
     "base_uri": "https://localhost:8080/"
    },
    "executionInfo": {
     "elapsed": 11155,
     "status": "ok",
     "timestamp": 1734198075584,
     "user": {
      "displayName": "Mohamed Zaali",
      "userId": "07924585633667612782"
     },
     "user_tz": -60
    },
    "id": "knHBECpv5NDO",
    "outputId": "665b6c81-319f-490e-bd2e-9aac73f6f637"
   },
   "outputs": [
    {
     "name": "stdout",
     "output_type": "stream",
     "text": [
      "1/1 [==============================] - 11s 11s/step\n"
     ]
    }
   ],
   "source": [
    "yhat=model.predict(val[0])"
   ]
  },
  {
   "cell_type": "code",
   "execution_count": 33,
   "metadata": {
    "colab": {
     "base_uri": "https://localhost:8080/"
    },
    "executionInfo": {
     "elapsed": 439,
     "status": "ok",
     "timestamp": 1734198080279,
     "user": {
      "displayName": "Mohamed Zaali",
      "userId": "07924585633667612782"
     },
     "user_tz": -60
    },
    "id": "lSnwlSYx59XK",
    "outputId": "1dca8d6b-b637-4165-8640-9a28a98b8776"
   },
   "outputs": [
    {
     "data": {
      "text/plain": [
       "(75, 41)"
      ]
     },
     "execution_count": 33,
     "metadata": {},
     "output_type": "execute_result"
    }
   ],
   "source": [
    "yhat[0].shape"
   ]
  },
  {
   "cell_type": "code",
   "execution_count": 34,
   "metadata": {
    "colab": {
     "base_uri": "https://localhost:8080/"
    },
    "executionInfo": {
     "elapsed": 329,
     "status": "ok",
     "timestamp": 1734198116193,
     "user": {
      "displayName": "Mohamed Zaali",
      "userId": "07924585633667612782"
     },
     "user_tz": -60
    },
    "id": "LP4wvAck6CZ5",
    "outputId": "b3511b41-09c9-49b1-c76f-cf0d78d10313"
   },
   "outputs": [
    {
     "data": {
      "text/plain": [
       "<tf.Tensor: shape=(), dtype=string, numpy=b'uqqqqqqqqqqqqqqqqqqqqqqqqqqqqqqqqqqqqqqqqqqqqqqqqqqqqqqqqqqqqqqqqqqqqqqqqqq'>"
      ]
     },
     "execution_count": 34,
     "metadata": {},
     "output_type": "execute_result"
    }
   ],
   "source": [
    "tf.strings.reduce_join([num_to_char(tf.argmax(x)) for x in yhat[1]])"
   ]
  },
  {
   "cell_type": "code",
   "execution_count": 35,
   "metadata": {
    "colab": {
     "base_uri": "https://localhost:8080/"
    },
    "executionInfo": {
     "elapsed": 523,
     "status": "ok",
     "timestamp": 1734198237760,
     "user": {
      "displayName": "Mohamed Zaali",
      "userId": "07924585633667612782"
     },
     "user_tz": -60
    },
    "id": "d1y-X4eU6qqt",
    "outputId": "198f514d-0db8-4910-be42-1419f6ff1504"
   },
   "outputs": [
    {
     "data": {
      "text/plain": [
       "(None, 75, 46, 140, 1)"
      ]
     },
     "execution_count": 35,
     "metadata": {},
     "output_type": "execute_result"
    }
   ],
   "source": [
    "model.input_shape"
   ]
  },
  {
   "cell_type": "code",
   "execution_count": 37,
   "metadata": {
    "colab": {
     "base_uri": "https://localhost:8080/"
    },
    "executionInfo": {
     "elapsed": 470,
     "status": "ok",
     "timestamp": 1734198278296,
     "user": {
      "displayName": "Mohamed Zaali",
      "userId": "07924585633667612782"
     },
     "user_tz": -60
    },
    "id": "zHfRwaoj6s1B",
    "outputId": "956e01b8-1672-435c-c869-ba2b6e58dd00"
   },
   "outputs": [
    {
     "data": {
      "text/plain": [
       "(None, 75, 41)"
      ]
     },
     "execution_count": 37,
     "metadata": {},
     "output_type": "execute_result"
    }
   ],
   "source": [
    "model.output_shape"
   ]
  },
  {
   "cell_type": "markdown",
   "metadata": {
    "id": "7A_429UA6xGo"
   },
   "source": [
    "# SETUP TRAINING OPTIONS AND TRAIN"
   ]
  },
  {
   "cell_type": "code",
   "execution_count": 38,
   "metadata": {
    "executionInfo": {
     "elapsed": 414,
     "status": "ok",
     "timestamp": 1734198472430,
     "user": {
      "displayName": "Mohamed Zaali",
      "userId": "07924585633667612782"
     },
     "user_tz": -60
    },
    "id": "6geA5veR629U"
   },
   "outputs": [],
   "source": [
    "# define a learning rate scheduler\n",
    "def scheduler(epoch, lr):\n",
    "  if epoch < 30:\n",
    "    return lr\n",
    "  else:\n",
    "    return lr * tf.math.exp(-0.1)"
   ]
  },
  {
   "cell_type": "code",
   "execution_count": 39,
   "metadata": {
    "executionInfo": {
     "elapsed": 338,
     "status": "ok",
     "timestamp": 1734198771607,
     "user": {
      "displayName": "Mohamed Zaali",
      "userId": "07924585633667612782"
     },
     "user_tz": -60
    },
    "id": "PadVK_DT8G5n"
   },
   "outputs": [],
   "source": [
    "#Compute the Connectionist Temporal Classification (CTC) loss function\n",
    "def CTCLoss(y_true, y_pred):\n",
    "\n",
    "    # Get the batch size (number of samples in the batch)\n",
    "    batch_len = tf.cast(tf.shape(y_true)[0], dtype=\"int64\")\n",
    "\n",
    "    # Get the length of the predicted sequences (time steps in the model output)\n",
    "    input_length = tf.cast(tf.shape(y_pred)[1], dtype=\"int64\")\n",
    "\n",
    "    # Get the length of the ground-truth sequences (number of labels in the actual output)\n",
    "    label_length = tf.cast(tf.shape(y_true)[1], dtype=\"int64\")\n",
    "\n",
    "    # Create a tensor for input lengths, where all entries are the same (input_length for each sample)\n",
    "    input_length = input_length * tf.ones(shape=(batch_len, 1), dtype=\"int64\")\n",
    "\n",
    "    # Create a tensor for label lengths, where all entries are the same (label_length for each sample)\n",
    "    label_length = label_length * tf.ones(shape=(batch_len, 1), dtype=\"int64\")\n",
    "\n",
    "    # Compute the CTC loss using TensorFlow's built-in function\n",
    "    loss = tf.keras.backend.ctc_batch_cost(y_true, y_pred, input_length, label_length)\n",
    "\n",
    "    # Return the computed loss\n",
    "    return loss\n"
   ]
  },
  {
   "cell_type": "code",
   "execution_count": 40,
   "metadata": {
    "executionInfo": {
     "elapsed": 334,
     "status": "ok",
     "timestamp": 1734198987635,
     "user": {
      "displayName": "Mohamed Zaali",
      "userId": "07924585633667612782"
     },
     "user_tz": -60
    },
    "id": "es8ClbhM8JWJ"
   },
   "outputs": [],
   "source": [
    "class ProduceExample(tf.keras.callbacks.Callback):\n",
    "  def __init__(self, dataset)-> None:\n",
    "    self.dataset= dataset.as_numpy_iterator()\n",
    "  def on_epoch_end(self, epoch, logs=None) -> None:\n",
    "    data=self.dataset.next()\n",
    "    yhat=self.model.predict(data[0])\n",
    "    decoded=tf.keras.backend.ctc_decode(yhat, [75,75], greedy=False)[0][0].numpy()  #ctc_decode is used to decode the outputs of our ctc training model\n",
    "    for x in range(len(yhat)):\n",
    "      print('Original:', tf.strings.reduce_join([vocab[word]+' ' for word in data[1][x]]).numpy().decode('utf-8'))\n",
    "      print('Predicted:', tf.strings.reduce_join([vocab[word]+' ' for word in decoded[x]]).numpy().decode('utf-8'))\n",
    "      print('~'*100)"
   ]
  },
  {
   "cell_type": "code",
   "execution_count": 41,
   "metadata": {
    "executionInfo": {
     "elapsed": 236,
     "status": "ok",
     "timestamp": 1734198990971,
     "user": {
      "displayName": "Mohamed Zaali",
      "userId": "07924585633667612782"
     },
     "user_tz": -60
    },
    "id": "LRMKBcMe9zDF"
   },
   "outputs": [],
   "source": [
    "model.compile(optimizer=Adam(learning_rate=0.0001), loss=CTCLoss)"
   ]
  },
  {
   "cell_type": "code",
   "execution_count": 42,
   "metadata": {
    "executionInfo": {
     "elapsed": 360,
     "status": "ok",
     "timestamp": 1734199152835,
     "user": {
      "displayName": "Mohamed Zaali",
      "userId": "07924585633667612782"
     },
     "user_tz": -60
    },
    "id": "-C86sRMM93UR"
   },
   "outputs": [],
   "source": [
    "#checkpoint_callback=ModelCheckpoint(os.path.join('models', 'checkpoint.keras'), monitor='loss', save_weights_only=False )\n",
    "checkpoint_callback = ModelCheckpoint(os.path.join('models','checkpoint'), monitor='loss', save_weights_only=True)"
   ]
  },
  {
   "cell_type": "code",
   "execution_count": 43,
   "metadata": {
    "executionInfo": {
     "elapsed": 347,
     "status": "ok",
     "timestamp": 1734199174185,
     "user": {
      "displayName": "Mohamed Zaali",
      "userId": "07924585633667612782"
     },
     "user_tz": -60
    },
    "id": "d_RFjAId-5eb"
   },
   "outputs": [],
   "source": [
    "scheduler_callback=LearningRateScheduler(scheduler)"
   ]
  },
  {
   "cell_type": "code",
   "execution_count": 44,
   "metadata": {
    "executionInfo": {
     "elapsed": 245,
     "status": "ok",
     "timestamp": 1734199183867,
     "user": {
      "displayName": "Mohamed Zaali",
      "userId": "07924585633667612782"
     },
     "user_tz": -60
    },
    "id": "IC0P42e_-91h"
   },
   "outputs": [],
   "source": [
    "example_callback=ProduceExample(data)"
   ]
  },
  {
   "cell_type": "code",
   "execution_count": null,
   "metadata": {
    "id": "s2viLabt_G3y"
   },
   "outputs": [],
   "source": [
    "model.fit(train, validation_data=test, epochs=100, callbacks=[checkpoint_callback, scheduler_callback, example_callback])"
   ]
  },
  {
   "cell_type": "markdown",
   "metadata": {
    "id": "LddZPsr0Zv65"
   },
   "source": [
    "# Make a prediction"
   ]
  },
  {
   "cell_type": "code",
   "execution_count": 4,
   "metadata": {
    "colab": {
     "base_uri": "https://localhost:8080/"
    },
    "id": "Gv-g2gdhZuVV",
    "outputId": "d4ebce9e-6caf-4a22-a789-a628a3de7ea6"
   },
   "outputs": [
    {
     "name": "stderr",
     "output_type": "stream",
     "text": [
      "Downloading...\n",
      "From (original): https://drive.google.com/uc?id=1vWscXs4Vt0a_1IH1-ct2TCgXAZT-N3_Y\n",
      "From (redirected): https://drive.google.com/uc?id=1vWscXs4Vt0a_1IH1-ct2TCgXAZT-N3_Y&confirm=t&uuid=8ebf7d03-3838-4030-ac54-2ef002f8375b\n",
      "To: c:\\Users\\Mohamed\\Desktop\\INDIA S3\\Traitement d'image\\Lip reading project\\checkpoints.zip\n",
      "100%|██████████| 94.5M/94.5M [04:18<00:00, 365kB/s]\n"
     ]
    },
    {
     "data": {
      "text/plain": [
       "['models\\\\checkpoint.index',\n",
       " 'models\\\\__MACOSX/._checkpoint.index',\n",
       " 'models\\\\checkpoint.data-00000-of-00001',\n",
       " 'models\\\\__MACOSX/._checkpoint.data-00000-of-00001',\n",
       " 'models\\\\checkpoint',\n",
       " 'models\\\\__MACOSX/._checkpoint']"
      ]
     },
     "execution_count": 4,
     "metadata": {},
     "output_type": "execute_result"
    }
   ],
   "source": [
    "url='https://drive.google.com/uc?id=1vWscXs4Vt0a_1IH1-ct2TCgXAZT-N3_Y'\n",
    "output = 'checkpoints.zip'\n",
    "gdown.download (url, output, quiet=False)\n",
    "gdown.extractall('checkpoints.zip', 'models')"
   ]
  },
  {
   "cell_type": "code",
   "execution_count": 15,
   "metadata": {
    "colab": {
     "base_uri": "https://localhost:8080/"
    },
    "id": "5RdV73iuaKpN",
    "outputId": "ce58b78d-17d4-4515-e40f-dca33a2f6a1f"
   },
   "outputs": [
    {
     "data": {
      "text/plain": [
       "<tensorflow.python.checkpoint.checkpoint.CheckpointLoadStatus at 0x2045dbe1780>"
      ]
     },
     "execution_count": 15,
     "metadata": {},
     "output_type": "execute_result"
    }
   ],
   "source": [
    "model.load_weights('./models/checkpoint')"
   ]
  },
  {
   "cell_type": "code",
   "execution_count": null,
   "metadata": {
    "colab": {
     "base_uri": "https://localhost:8080/"
    },
    "id": "sXL18WlpbL1J",
    "outputId": "003cf80b-01f9-4c12-f5c8-3de1a4892985"
   },
   "outputs": [],
   "source": [
    "sample=test.next()"
   ]
  },
  {
   "cell_type": "code",
   "execution_count": null,
   "metadata": {
    "colab": {
     "base_uri": "https://localhost:8080/"
    },
    "id": "Buwt1dWpbR-p",
    "outputId": "0dce44bd-e879-4f59-e6fc-6eeb0ccc1617"
   },
   "outputs": [
    {
     "name": "stdout",
     "output_type": "stream",
     "text": [
      "1/1 [==============================] - 17s 17s/step\n"
     ]
    }
   ],
   "source": [
    "yhat=model.predict(sample[0])"
   ]
  },
  {
   "cell_type": "code",
   "execution_count": null,
   "metadata": {
    "colab": {
     "base_uri": "https://localhost:8080/"
    },
    "id": "5685wOOcd0D3",
    "outputId": "aec8c05b-1270-4f6e-c5ec-05136bf83fc5"
   },
   "outputs": [
    {
     "name": "stdout",
     "output_type": "stream",
     "text": [
      "~~~~~~~~~~~~~~~~~~~~~~~~~~~~~~~~~~~~~~~~~~~~~~~~~~~~~~~~~~~~~~~~~~~~~~~~~~~~~~~~~~~~~~~~~~~~~~~~~~~~ REAL_TEXT\n"
     ]
    },
    {
     "data": {
      "text/plain": [
       "[<tf.Tensor: shape=(), dtype=string, numpy=b'bin green with b five soon'>,\n",
       " <tf.Tensor: shape=(), dtype=string, numpy=b'lay green with m eight please'>]"
      ]
     },
     "execution_count": 46,
     "metadata": {},
     "output_type": "execute_result"
    }
   ],
   "source": [
    "print('~'*100,'REAL_TEXT')\n",
    "[tf.strings.reduce_join([num_to_char(word) for word in sentence]) for sentence in sample[1]]"
   ]
  },
  {
   "cell_type": "code",
   "execution_count": null,
   "metadata": {
    "id": "CO3dpdx1cXtT"
   },
   "outputs": [],
   "source": [
    "decoded=tf.keras.backend.ctc_decode(yhat, input_length=[75,75], greedy=True)[0][0].numpy()"
   ]
  },
  {
   "cell_type": "code",
   "execution_count": null,
   "metadata": {
    "colab": {
     "base_uri": "https://localhost:8080/"
    },
    "id": "GpczSUKmdAg6",
    "outputId": "eba9571f-7c9a-4a53-9e89-9524cf60529d"
   },
   "outputs": [
    {
     "name": "stdout",
     "output_type": "stream",
     "text": [
      "~~~~~~~~~~~~~~~~~~~~~~~~~~~~~~~~~~~~~~~~~~~~~~~~~~~~~~~~~~~~~~~~~~~~~~~~~~~~~~~~~~~~~~~~~~~~~~~~~~~~ PREDICTIONS\n"
     ]
    },
    {
     "data": {
      "text/plain": [
       "[<tf.Tensor: shape=(), dtype=string, numpy=b'bin green with five soon'>,\n",
       " <tf.Tensor: shape=(), dtype=string, numpy=b'lay green with m eight please'>]"
      ]
     },
     "execution_count": 48,
     "metadata": {},
     "output_type": "execute_result"
    }
   ],
   "source": [
    "print('~'*100,'PREDICTIONS')\n",
    "[tf.strings.reduce_join([num_to_char(word) for word in sentence]) for sentence in decoded]"
   ]
  },
  {
   "cell_type": "markdown",
   "metadata": {
    "id": "YuHmLjWdfCEo"
   },
   "source": [
    "# TEST ON A VIDEO"
   ]
  },
  {
   "cell_type": "code",
   "execution_count": null,
   "metadata": {
    "colab": {
     "base_uri": "https://localhost:8080/"
    },
    "id": "v7xYb2scfBzI",
    "outputId": "35218034-da9b-49b3-c263-0f4b58a00bfa"
   },
   "outputs": [
    {
     "name": "stdout",
     "output_type": "stream",
     "text": [
      "Generated path: ./data/s1/bbaf2n.mpg\n",
      "Generated video path: data/s1/bbaf2n.mpg\n",
      "Generated alignments path: data/alignments/s1/bbaf2n.align\n"
     ]
    }
   ],
   "source": [
    "sample =load_data(tf.convert_to_tensor('./data/s1/bbaf2n.mpg'))"
   ]
  },
  {
   "cell_type": "code",
   "execution_count": null,
   "metadata": {
    "colab": {
     "base_uri": "https://localhost:8080/"
    },
    "id": "hq0WwQgKffm5",
    "outputId": "18277267-b54a-43b2-e845-ed88a9a289f5"
   },
   "outputs": [
    {
     "name": "stdout",
     "output_type": "stream",
     "text": [
      "1/1 [==============================] - 8s 8s/step\n"
     ]
    }
   ],
   "source": [
    "yhat=model.predict(tf.expand_dims(sample[0], axis=0))"
   ]
  },
  {
   "cell_type": "code",
   "execution_count": null,
   "metadata": {
    "colab": {
     "base_uri": "https://localhost:8080/"
    },
    "id": "kHzcoeJFfvkC",
    "outputId": "50596a48-65a7-4617-b43b-d2017fc60fa7"
   },
   "outputs": [
    {
     "name": "stdout",
     "output_type": "stream",
     "text": [
      "~~~~~~~~~~~~~~~~~~~~~~~~~~~~~~~~~~~~~~~~~~~~~~~~~~~~~~~~~~~~~~~~~~~~~~~~~~~~~~~~~~~~~~~~~~~~~~~~~~~~ REAL_TEXT\n"
     ]
    },
    {
     "data": {
      "text/plain": [
       "[<tf.Tensor: shape=(), dtype=string, numpy=b'bin blue at f two now'>]"
      ]
     },
     "execution_count": 54,
     "metadata": {},
     "output_type": "execute_result"
    }
   ],
   "source": [
    "print('~'*100,'REAL_TEXT')\n",
    "[tf.strings.reduce_join([num_to_char(word) for word in sentence]) for sentence in [sample[1]]]"
   ]
  },
  {
   "cell_type": "code",
   "execution_count": null,
   "metadata": {
    "id": "f0XD-aVtfveD"
   },
   "outputs": [],
   "source": [
    "decoded=tf.keras.backend.ctc_decode(yhat, input_length=[75], greedy=True)[0][0].numpy()"
   ]
  },
  {
   "cell_type": "code",
   "execution_count": null,
   "metadata": {
    "colab": {
     "base_uri": "https://localhost:8080/"
    },
    "id": "7Mlby9JZfvLe",
    "outputId": "b95eb3ab-638f-4a76-c71c-267aca465fc7"
   },
   "outputs": [
    {
     "name": "stdout",
     "output_type": "stream",
     "text": [
      "~~~~~~~~~~~~~~~~~~~~~~~~~~~~~~~~~~~~~~~~~~~~~~~~~~~~~~~~~~~~~~~~~~~~~~~~~~~~~~~~~~~~~~~~~~~~~~~~~~~~ PREDICTIONS\n"
     ]
    },
    {
     "data": {
      "text/plain": [
       "[<tf.Tensor: shape=(), dtype=string, numpy=b'bin blue at f two now'>]"
      ]
     },
     "execution_count": 57,
     "metadata": {},
     "output_type": "execute_result"
    }
   ],
   "source": [
    "print('~'*100,'PREDICTIONS')\n",
    "[tf.strings.reduce_join([num_to_char(word) for word in sentence]) for sentence in decoded]"
   ]
  }
 ],
 "metadata": {
  "accelerator": "GPU",
  "colab": {
   "gpuType": "T4",
   "provenance": []
  },
  "kernelspec": {
   "display_name": "venv",
   "language": "python",
   "name": "python3"
  },
  "language_info": {
   "codemirror_mode": {
    "name": "ipython",
    "version": 3
   },
   "file_extension": ".py",
   "mimetype": "text/x-python",
   "name": "python",
   "nbconvert_exporter": "python",
   "pygments_lexer": "ipython3",
   "version": "3.9.0"
  }
 },
 "nbformat": 4,
 "nbformat_minor": 0
}
